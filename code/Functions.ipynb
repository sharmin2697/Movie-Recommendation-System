{
 "cells": [
  {
   "cell_type": "markdown",
   "metadata": {},
   "source": [
    "<b>\n",
    "    \n",
    "<p>\n",
    "<center>\n",
    "<font size=\"5\">\n",
    "Functions\n",
    "</font>\n",
    "</center>\n",
    "<center>\n",
    "<font size=\"4\">\n",
    "Functions used in the Main Code</font>\n",
    "</center>\n",
    "</p>\n",
    "    \n",
    ""
   ]
  },
  {
   "cell_type": "markdown",
   "metadata": {},
   "source": [
    "### Overview"
   ]
  },
  {
   "cell_type": "markdown",
   "metadata": {},
   "source": [
    "## Functions"
   ]
  },
  {
   "cell_type": "markdown",
   "metadata": {},
   "source": [
    "This Jupyter Notebook contains all the functions used in the main coding notebooks as well as the datasets used.\n",
    "\n",
    "Install the following before running the Notebooks:\n",
    "- pip install scikit-surprise\n",
    "- pip install import-ipynb"
   ]
  },
  {
   "cell_type": "markdown",
   "metadata": {},
   "source": [
    "### Import"
   ]
  },
  {
   "cell_type": "code",
   "execution_count": 1,
   "metadata": {},
   "outputs": [],
   "source": [
    "# import statements\n",
    "import sys\n",
    "import pandas as pd\n",
    "import numpy as np\n",
    "import matplotlib.pyplot as plt\n",
    "from wordcloud import *\n",
    "from sklearn.metrics import pairwise_distances\n",
    "from sklearn.metrics.pairwise import linear_kernel \n",
    "from sklearn.feature_extraction.text import TfidfVectorizer\n",
    "from surprise import Reader, Dataset, SVD\n",
    "from surprise import KNNBasic\n",
    "from surprise import KNNWithMeans\n",
    "from surprise.model_selection import cross_validate"
   ]
  },
  {
   "cell_type": "markdown",
   "metadata": {},
   "source": [
    "### Data Pre-Processing"
   ]
  },
  {
   "cell_type": "code",
   "execution_count": 2,
   "metadata": {},
   "outputs": [],
   "source": [
    "movies = pd.read_csv('movies.csv', header = 0)\n",
    "ratings = pd.read_csv('ratings.csv', header = 0)\n",
    "ratings.drop(columns='timestamp', axis=0, inplace=True)\n",
    "# merge the two tables on movieId\n",
    "data = pd.merge(movies, ratings, on='movieId')"
   ]
  },
  {
   "cell_type": "markdown",
   "metadata": {},
   "source": [
    "### Functions for Content-Based Filtering"
   ]
  },
  {
   "cell_type": "code",
   "execution_count": 3,
   "metadata": {},
   "outputs": [],
   "source": [
    "# Collect the unique set of all the genres\n",
    "def list_of_genres(df):\n",
    "    genre_list = []\n",
    "    for i in range(len(df)):\n",
    "        each_genre = df.iloc[i]\n",
    "        string_split = each_genre.split(\"|\")\n",
    "        #     print(string_split)\n",
    "        for each in string_split:\n",
    "            if each not in genre_list:\n",
    "                genre_list.append(each)\n",
    "    return genre_list"
   ]
  },
  {
   "cell_type": "code",
   "execution_count": 4,
   "metadata": {},
   "outputs": [],
   "source": [
    "# recommend movie by similar movie\n",
    "def sort_scores(score):\n",
    "    return score[1].any()\n",
    "\n",
    "\n",
    "def recommend_by_movie(movie_title, title_data, similar_movie_matrix):\n",
    "    indices = pd.Series(title_data.index, index=title_data)\n",
    "    # print(indices)\n",
    "    indx = indices[movie_title]\n",
    "    # print(indx)\n",
    "    similarity_score = list(enumerate(similar_movie_matrix[indx]))\n",
    "    # print(similarity_score, len(similarity_score))\n",
    "    similarity_score = sorted(similarity_score, key=sort_scores, reverse=True)\n",
    "    # print(similarity_score)\n",
    "    indices = [i[0] for i in similarity_score if i[0] != indx]\n",
    "    recommended_movies = title_data.iloc[indices]\n",
    "    # recommended_movies = recommended_movies.to_frame()\n",
    "    # recommended_movies = pd.concat([recommended_movies, data])\n",
    "    return recommended_movies\n",
    "\n",
    "# output\n",
    "def movie_list_by_title(movie_title, title_data, similar_movie_matrix, average_rating_val):\n",
    "    movie_list = recommend_by_movie(movie_title, title_data, similar_movie_matrix)\n",
    "    movie_list = movie_list.to_frame()\n",
    "    final_list = pd.merge(movie_list, average_rating_val, on=['title'])\n",
    "    top_20 = final_list[:20]\n",
    "    top_20 = top_20.sort_values(by='rating', ascending=False).reset_index(drop=True)\n",
    "    print('Top 20 Movies Similar to', movie_title, 'are:')\n",
    "    return top_20\n",
    "\n",
    "# evaluation\n",
    "def movie_evaluation(movie_title, predicted_movies):\n",
    "    main_movie_genre = list_of_genres(movies[movies['title']==movie_title]['genres'])\n",
    "    movie_genres_list = []\n",
    "    for each in predicted_movies['title']:\n",
    "        genre_list_per_movie = list_of_genres(movies[movies['title']==each]['genres'])\n",
    "        movie_genres_list.append(genre_list_per_movie)\n",
    "    recc_list = []\n",
    "    for each in movie_genres_list:\n",
    "        for all in each:\n",
    "            recc_list.append(all)\n",
    "    hit = 0\n",
    "    fault = 0\n",
    "    total = 0\n",
    "    for i in recc_list:\n",
    "        if i in main_movie_genre:\n",
    "            hit += 1\n",
    "        else:\n",
    "            fault += 1\n",
    "        total += 1\n",
    "    return hit/total"
   ]
  },
  {
   "cell_type": "code",
   "execution_count": 5,
   "metadata": {},
   "outputs": [],
   "source": [
    "# recommend movie by user\n",
    "def recommend_by_user(user_id, movie_data, rating_data, title_data, similar_movie_matrix):\n",
    "    past_user_rating = rating_data[rating_data['userId']==user_id]\n",
    "    # print(past_user_rating)\n",
    "    recommended_movies = []\n",
    "    movies_rated = []\n",
    "    for i, row in past_user_rating.iterrows():\n",
    "        # print(row)\n",
    "        movies_rated.append((movie_data['title'][row['movieId']==movie_data['movieId']]).values)\n",
    "    for j, each_mov in enumerate(movies_rated):\n",
    "        for key, mov_recc in recommend_by_movie(each_mov[0], title_data, similar_movie_matrix).iteritems():\n",
    "            recommended_movies.append(mov_recc)\n",
    "    for mov in recommended_movies:\n",
    "        if mov in movies_rated:\n",
    "            recommended_movies.remove(mov)\n",
    "    recommendations = list(set(recommended_movies))\n",
    "    return recommendations\n",
    "\n",
    "# output\n",
    "def movie_list_by_user(userId, movie_data, rating_data, title_data, similar_movie_matrix):\n",
    "    movie_list = recommend_by_user(userId, movie_data, rating_data, title_data, similar_movie_matrix)\n",
    "    movie_list = pd.DataFrame(movie_list, columns=['title'])\n",
    "    final_list = pd.merge(movie_list, average_rating, on=['title'])\n",
    "    top_20 = final_list.sort_values(by='rating', ascending=False).reset_index(drop=True)\n",
    "    top_20 = top_20[:20]\n",
    "    print('Movies recommended for User', userId, 'are:')\n",
    "    return top_20\n",
    "\n",
    "# evaluation\n",
    "def user_evaluation(userid, predicted_movies):\n",
    "    user_rated_movies = data[data['userId']==userid]  # items in user's history, rated by user\n",
    "    user_rated_movies = user_rated_movies.sort_values(by='rating', ascending=False).reset_index()\n",
    "    user_rated_movies = user_rated_movies[user_rated_movies['rating']>=4.0]\n",
    "#     print(user_rated_movies)\n",
    "    hit = 0\n",
    "    fault = 0\n",
    "    total = 0\n",
    "    for each in user_rated_movies['movieId']:\n",
    "        if each in predicted_movies['movieId']:\n",
    "            hit += 1\n",
    "        else:\n",
    "            fault += 1\n",
    "        total += 1\n",
    "#         print(hit, fault)\n",
    "    return hit/total   # hit rate"
   ]
  },
  {
   "cell_type": "markdown",
   "metadata": {},
   "source": [
    "### Functions for Memory-Based Collaborative Filtering"
   ]
  },
  {
   "cell_type": "code",
   "execution_count": 6,
   "metadata": {},
   "outputs": [],
   "source": [
    "# Function to Create Pivot Table\n",
    "\n",
    "def create_pivot_table(data, indx, val, colm):\n",
    "    '''\n",
    "    For Item-Item similarity: index='movieId', values='rating', columns='userId'\n",
    "    For User-User similarity: index='userId', values='rating', columns='movieId'\n",
    "    '''\n",
    "    pivot_tab = data.pivot_table(index=data[indx], values=val, columns=colm).reset_index(drop=True)\n",
    "    pivot_tab.fillna(0, inplace=True)\n",
    "    return pivot_tab"
   ]
  },
  {
   "cell_type": "code",
   "execution_count": 7,
   "metadata": {},
   "outputs": [],
   "source": [
    "# Function to Create Similarity Matrix\n",
    "\n",
    "def calculate_similarity(piv_table, sim_metric):\n",
    "    '''\n",
    "    sim: cosine\n",
    "    '''\n",
    "    similarity = 1-pairwise_distances(piv_table.to_numpy(), metric=sim_metric)\n",
    "    np.fill_diagonal(similarity, 0)\n",
    "    similarity_matrix = pd.DataFrame(similarity) \n",
    "    return similarity_matrix"
   ]
  },
  {
   "cell_type": "code",
   "execution_count": 8,
   "metadata": {},
   "outputs": [],
   "source": [
    "# function to find similar items\n",
    "def similar_items(movie_id, movie_similarity_matrix):\n",
    "    similar_item_matrix = movie_similarity_matrix.sort_values(by=movie_id, ascending=False)   # 1 is the movieId\n",
    "    # You get the matrix, where the index is movieid which has highest score wrt the given movie\n",
    "    # print(similar_item_matrix)\n",
    "    similar_movie_scores = movie_similarity_matrix.sort_values(by=movie_id, ascending=False).loc[:, movie_id]\n",
    "#     print(similar_user_scores)\n",
    "    items_list = []\n",
    "    for i in similar_movie_scores.index:\n",
    "        items_list.append(i)  # items that have the highest similarity with the current item\n",
    "    scores_list = []\n",
    "    for i in similar_movie_scores:\n",
    "        scores_list.append(i)  # similarity score between current movie(item) and all the other items\n",
    "        \n",
    "    similarity_data = pd.DataFrame(items_list, columns=['similar movie'])\n",
    "    similarity_data['similarity score'] = scores_list\n",
    "    similarity_data = similarity_data.sort_values(by='similarity score', ascending=False).reset_index(drop=True)\n",
    "#     print(similarity_data)\n",
    "    return similarity_data"
   ]
  },
  {
   "cell_type": "code",
   "execution_count": 9,
   "metadata": {},
   "outputs": [],
   "source": [
    "# function to generate item-based recommendations\n",
    "def item_item_based_reccommendations(movie_id, sim_matrix):\n",
    "    similar_movies = similar_items(movie_id, sim_matrix)\n",
    "#     print(similar_movies)\n",
    "    df_recommended=pd.DataFrame(columns=['movieId','title','genres','userId','rating'])\n",
    "    for id in similar_movies['similar movie']:\n",
    "        if id not in movies[movies.index==id]:\n",
    "            movie_idfd = movies[movies.index==id]['movieId'].iloc[0]\n",
    "            df = data[(data['rating']>=4.0) & (data['movieId']==movie_idfd)]\n",
    "            df_recommended = pd.concat([df_recommended, df])\n",
    "    \n",
    "    df_recommended_final = df_recommended.sort_values(by='rating', ascending=False).reset_index(drop=True)\n",
    "    df_recommended_final = df_recommended_final.drop_duplicates(subset='movieId')\n",
    "\n",
    "    print('Top 20 Movies Similar to', movies[movies['movieId']==movie_id]['title'].iloc[0], 'are:')\n",
    "    return df_recommended_final.head(20)\n",
    "\n",
    "# evaluation\n",
    "def item_evaluation(movieid, predicted_movies):\n",
    "    main_movie_genre = list_of_genres(movies[movies['movieId']==movieid]['genres'])\n",
    "    movie_genres_list = []\n",
    "    for each in predicted_movies['title']:\n",
    "        genre_list_per_movie = list_of_genres(movies[movies['title']==each]['genres'])\n",
    "        movie_genres_list.append(genre_list_per_movie)\n",
    "    recc_list = []\n",
    "    for each in movie_genres_list:\n",
    "        for all in each:\n",
    "            recc_list.append(all)\n",
    "    hit = 0\n",
    "    fault = 0\n",
    "    total = 0\n",
    "    for i in recc_list:\n",
    "        if i in main_movie_genre:\n",
    "            hit += 1\n",
    "        else:\n",
    "            fault += 1\n",
    "        total += 1\n",
    "    return hit/total"
   ]
  },
  {
   "cell_type": "code",
   "execution_count": 10,
   "metadata": {},
   "outputs": [],
   "source": [
    "# function to find similar users\n",
    "def similar_users(user_id, similarity_matrix):\n",
    "    similar_user_matrix = similarity_matrix.sort_values(by=user_id, ascending=False)   # 1 is the userId\n",
    "    # You get the matrix, where the index is movieid which has highest score wrt the given movie\n",
    "    # print(similar_user_matrix)\n",
    "    similar_user_scores = similarity_matrix.sort_values(by=user_id, ascending=False).loc[:, user_id]\n",
    "    # print(similar_user_scores)\n",
    "    users_list = []\n",
    "    for i in similar_user_scores.index:\n",
    "        users_list.append(i)  # userId that have the highest similarity with the current user\n",
    "    scores_list = []\n",
    "    for i in similar_user_scores:\n",
    "        scores_list.append(i)  # similarity score between current user and all the other users\n",
    "\n",
    "    similarity_data = pd.DataFrame(users_list, columns=['similar user'])\n",
    "    similarity_data['similarity score'] = scores_list\n",
    "    similarity_data = similarity_data.sort_values(by='similarity score', ascending=False).reset_index(drop=True)\n",
    "    return similarity_data"
   ]
  },
  {
   "cell_type": "code",
   "execution_count": 11,
   "metadata": {},
   "outputs": [],
   "source": [
    "# function to generate user-based recommendations\n",
    "def user_user_based_reccommendations(user_id, similarity_matrix):\n",
    "    similar_user_data = similar_users(user_id, similarity_matrix)\n",
    "    print('Top 10 Users Similar to User', user_id, 'are: \\n', similar_user_data.head(10))\n",
    "    top_user = similar_user_data.iloc[0,0]\n",
    "    # top_user  # userid of the most similar user\n",
    "    top_user_movieids = ratings[ratings['userId']==top_user]['movieId']\n",
    "    df_recommended=pd.DataFrame(columns=['movieId','title','genres','userId','rating'])\n",
    "    for id in ratings[ratings['userId']==user_id]['movieId']:\n",
    "        if id not in top_user_movieids:\n",
    "            df = data[(data['userId']==top_user) & (data['movieId']==id)]\n",
    "            df_recommended = pd.concat([df_recommended, df])\n",
    "  \n",
    "    df_recommended = df_recommended.sort_values(by='rating', ascending=False).reset_index(drop=True)\n",
    "    print('Top Movies Recommended to User', user_id, 'based on Similar Users are:')\n",
    "    return df_recommended.head(20)"
   ]
  },
  {
   "cell_type": "markdown",
   "metadata": {},
   "source": [
    "### Functions for Model-Based Collaborative Filtering"
   ]
  },
  {
   "cell_type": "code",
   "execution_count": 12,
   "metadata": {},
   "outputs": [],
   "source": [
    "# function for to generate recommendation using best model\n",
    "def recommend_by_model(algo_name, userid, rating_data, all_ratings, main_data):\n",
    "    algo = algo_name()\n",
    "    prev_movies = all_ratings[all_ratings['userId']==userid]\n",
    "#     prev_movies = prev_movies.set_index(prev_movies['movieId']).reset_index(drop=True)\n",
    "    prev_movies = prev_movies.reset_index(drop=True)\n",
    "#     prev_movies\n",
    "    train_data = rating_data.build_full_trainset()\n",
    "    algo.fit(train_data)\n",
    "    excluded_data = pd.merge(all_ratings, prev_movies, how='left')\n",
    "    excluded_data = excluded_data.reset_index(drop=True)\n",
    "    excluded_data['estimated rating'] = excluded_data['movieId'].apply(lambda x: algo.predict(userid, x).est)\n",
    "    excluded_data = excluded_data.sort_values(by='estimated rating', ascending=False)\n",
    "    excluded_data = excluded_data.reset_index(drop=True)\n",
    "    final_recc = pd.merge(main_data, excluded_data, how='right')\n",
    "    final_recc = final_recc[final_recc['estimated rating']>=4.0]\n",
    "    final_recc = final_recc[final_recc['rating']>=4.0]\n",
    "    final_recc = final_recc.drop_duplicates(subset='movieId').reset_index()\n",
    "    final_recc = final_recc.drop(columns='index')\n",
    "    print('Recommended Movies for user', userid, 'are:')\n",
    "    return final_recc[:20]"
   ]
  }
 ],
 "metadata": {
  "kernelspec": {
   "display_name": "Python 3",
   "language": "python",
   "name": "python3"
  },
  "language_info": {
   "codemirror_mode": {
    "name": "ipython",
    "version": 3
   },
   "file_extension": ".py",
   "mimetype": "text/x-python",
   "name": "python",
   "nbconvert_exporter": "python",
   "pygments_lexer": "ipython3",
   "version": "3.8.5"
  }
 },
 "nbformat": 4,
 "nbformat_minor": 4
}
