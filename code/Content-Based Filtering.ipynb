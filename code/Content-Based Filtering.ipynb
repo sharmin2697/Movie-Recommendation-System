{
 "cells": [
  {
   "cell_type": "markdown",
   "metadata": {
    "id": "MLShA3oGCSy5"
   },
   "source": [
    "<b>\n",
    "    \n",
    "<p>\n",
    "<center>\n",
    "<font size=\"5\">\n",
    "Content-Based Filtering\n",
    "</font>\n",
    "</center>\n",
    "    <center>\n",
    "<font size=\"4\">\n",
    "Content-Based Filtering using TF-IDF and Cosine Similarity\n",
    "</font>\n",
    "</center>\n",
    "</p>\n",
    "   \n",
    ""
   ]
  },
  {
   "cell_type": "markdown",
   "metadata": {},
   "source": [
    "### Overview"
   ]
  },
  {
   "cell_type": "markdown",
   "metadata": {},
   "source": [
    "#### Aim\n",
    "1. Create Similarity Matrix using TfIdfVectorizer\n",
    "2. Recommend Top 20 Movies Similar to a Particular Movie"
   ]
  },
  {
   "cell_type": "markdown",
   "metadata": {},
   "source": [
    "### Import"
   ]
  },
  {
   "cell_type": "code",
   "execution_count": 1,
   "metadata": {
    "id": "XsViLpUaCSy9"
   },
   "outputs": [
    {
     "name": "stdout",
     "output_type": "stream",
     "text": [
      "importing Jupyter notebook from Functions.ipynb\n"
     ]
    }
   ],
   "source": [
    "# Import Statements\n",
    "import import_ipynb\n",
    "from Functions import *"
   ]
  },
  {
   "cell_type": "markdown",
   "metadata": {},
   "source": [
    "### Create Similarity Matrix"
   ]
  },
  {
   "cell_type": "markdown",
   "metadata": {},
   "source": [
    "#### Find Average Rating for Each Movie"
   ]
  },
  {
   "cell_type": "code",
   "execution_count": 2,
   "metadata": {
    "id": "PDDsqOj7fVuA"
   },
   "outputs": [
    {
     "data": {
      "text/html": [
       "<div>\n",
       "<style scoped>\n",
       "    .dataframe tbody tr th:only-of-type {\n",
       "        vertical-align: middle;\n",
       "    }\n",
       "\n",
       "    .dataframe tbody tr th {\n",
       "        vertical-align: top;\n",
       "    }\n",
       "\n",
       "    .dataframe thead th {\n",
       "        text-align: right;\n",
       "    }\n",
       "</style>\n",
       "<table border=\"1\" class=\"dataframe\">\n",
       "  <thead>\n",
       "    <tr style=\"text-align: right;\">\n",
       "      <th></th>\n",
       "      <th>movieId</th>\n",
       "      <th>title</th>\n",
       "      <th>genres</th>\n",
       "      <th>rating</th>\n",
       "    </tr>\n",
       "  </thead>\n",
       "  <tbody>\n",
       "    <tr>\n",
       "      <th>0</th>\n",
       "      <td>1</td>\n",
       "      <td>Toy Story (1995)</td>\n",
       "      <td>Adventure|Animation|Children|Comedy|Fantasy</td>\n",
       "      <td>4.0</td>\n",
       "    </tr>\n",
       "    <tr>\n",
       "      <th>1</th>\n",
       "      <td>1</td>\n",
       "      <td>Toy Story (1995)</td>\n",
       "      <td>Adventure|Animation|Children|Comedy|Fantasy</td>\n",
       "      <td>4.0</td>\n",
       "    </tr>\n",
       "    <tr>\n",
       "      <th>2</th>\n",
       "      <td>1</td>\n",
       "      <td>Toy Story (1995)</td>\n",
       "      <td>Adventure|Animation|Children|Comedy|Fantasy</td>\n",
       "      <td>4.5</td>\n",
       "    </tr>\n",
       "    <tr>\n",
       "      <th>3</th>\n",
       "      <td>1</td>\n",
       "      <td>Toy Story (1995)</td>\n",
       "      <td>Adventure|Animation|Children|Comedy|Fantasy</td>\n",
       "      <td>2.5</td>\n",
       "    </tr>\n",
       "    <tr>\n",
       "      <th>4</th>\n",
       "      <td>1</td>\n",
       "      <td>Toy Story (1995)</td>\n",
       "      <td>Adventure|Animation|Children|Comedy|Fantasy</td>\n",
       "      <td>4.5</td>\n",
       "    </tr>\n",
       "    <tr>\n",
       "      <th>...</th>\n",
       "      <td>...</td>\n",
       "      <td>...</td>\n",
       "      <td>...</td>\n",
       "      <td>...</td>\n",
       "    </tr>\n",
       "    <tr>\n",
       "      <th>100831</th>\n",
       "      <td>193581</td>\n",
       "      <td>Black Butler: Book of the Atlantic (2017)</td>\n",
       "      <td>Action|Animation|Comedy|Fantasy</td>\n",
       "      <td>4.0</td>\n",
       "    </tr>\n",
       "    <tr>\n",
       "      <th>100832</th>\n",
       "      <td>193583</td>\n",
       "      <td>No Game No Life: Zero (2017)</td>\n",
       "      <td>Animation|Comedy|Fantasy</td>\n",
       "      <td>3.5</td>\n",
       "    </tr>\n",
       "    <tr>\n",
       "      <th>100833</th>\n",
       "      <td>193585</td>\n",
       "      <td>Flint (2017)</td>\n",
       "      <td>Drama</td>\n",
       "      <td>3.5</td>\n",
       "    </tr>\n",
       "    <tr>\n",
       "      <th>100834</th>\n",
       "      <td>193587</td>\n",
       "      <td>Bungo Stray Dogs: Dead Apple (2018)</td>\n",
       "      <td>Action|Animation</td>\n",
       "      <td>3.5</td>\n",
       "    </tr>\n",
       "    <tr>\n",
       "      <th>100835</th>\n",
       "      <td>193609</td>\n",
       "      <td>Andrew Dice Clay: Dice Rules (1991)</td>\n",
       "      <td>Comedy</td>\n",
       "      <td>4.0</td>\n",
       "    </tr>\n",
       "  </tbody>\n",
       "</table>\n",
       "<p>100836 rows × 4 columns</p>\n",
       "</div>"
      ],
      "text/plain": [
       "        movieId                                      title  \\\n",
       "0             1                           Toy Story (1995)   \n",
       "1             1                           Toy Story (1995)   \n",
       "2             1                           Toy Story (1995)   \n",
       "3             1                           Toy Story (1995)   \n",
       "4             1                           Toy Story (1995)   \n",
       "...         ...                                        ...   \n",
       "100831   193581  Black Butler: Book of the Atlantic (2017)   \n",
       "100832   193583               No Game No Life: Zero (2017)   \n",
       "100833   193585                               Flint (2017)   \n",
       "100834   193587        Bungo Stray Dogs: Dead Apple (2018)   \n",
       "100835   193609        Andrew Dice Clay: Dice Rules (1991)   \n",
       "\n",
       "                                             genres  rating  \n",
       "0       Adventure|Animation|Children|Comedy|Fantasy     4.0  \n",
       "1       Adventure|Animation|Children|Comedy|Fantasy     4.0  \n",
       "2       Adventure|Animation|Children|Comedy|Fantasy     4.5  \n",
       "3       Adventure|Animation|Children|Comedy|Fantasy     2.5  \n",
       "4       Adventure|Animation|Children|Comedy|Fantasy     4.5  \n",
       "...                                             ...     ...  \n",
       "100831              Action|Animation|Comedy|Fantasy     4.0  \n",
       "100832                     Animation|Comedy|Fantasy     3.5  \n",
       "100833                                        Drama     3.5  \n",
       "100834                             Action|Animation     3.5  \n",
       "100835                                       Comedy     4.0  \n",
       "\n",
       "[100836 rows x 4 columns]"
      ]
     },
     "execution_count": 2,
     "metadata": {},
     "output_type": "execute_result"
    }
   ],
   "source": [
    "# find average rating for each movie; drop the userId column\n",
    "movie_info = data.copy(deep=True)\n",
    "movie_info = movie_info.drop(columns='userId')\n",
    "movie_info"
   ]
  },
  {
   "cell_type": "code",
   "execution_count": 3,
   "metadata": {
    "id": "NOP8oYDzeSVq"
   },
   "outputs": [
    {
     "data": {
      "text/html": [
       "<div>\n",
       "<style scoped>\n",
       "    .dataframe tbody tr th:only-of-type {\n",
       "        vertical-align: middle;\n",
       "    }\n",
       "\n",
       "    .dataframe tbody tr th {\n",
       "        vertical-align: top;\n",
       "    }\n",
       "\n",
       "    .dataframe thead th {\n",
       "        text-align: right;\n",
       "    }\n",
       "</style>\n",
       "<table border=\"1\" class=\"dataframe\">\n",
       "  <thead>\n",
       "    <tr style=\"text-align: right;\">\n",
       "      <th></th>\n",
       "      <th>title</th>\n",
       "      <th>movieId</th>\n",
       "      <th>genres</th>\n",
       "      <th>rating</th>\n",
       "    </tr>\n",
       "  </thead>\n",
       "  <tbody>\n",
       "    <tr>\n",
       "      <th>0</th>\n",
       "      <td>'71 (2014)</td>\n",
       "      <td>117867</td>\n",
       "      <td>Action|Drama|Thriller|War</td>\n",
       "      <td>4.000000</td>\n",
       "    </tr>\n",
       "    <tr>\n",
       "      <th>1</th>\n",
       "      <td>'Hellboy': The Seeds of Creation (2004)</td>\n",
       "      <td>97757</td>\n",
       "      <td>Action|Adventure|Comedy|Documentary|Fantasy</td>\n",
       "      <td>4.000000</td>\n",
       "    </tr>\n",
       "    <tr>\n",
       "      <th>2</th>\n",
       "      <td>'Round Midnight (1986)</td>\n",
       "      <td>26564</td>\n",
       "      <td>Drama|Musical</td>\n",
       "      <td>3.500000</td>\n",
       "    </tr>\n",
       "    <tr>\n",
       "      <th>3</th>\n",
       "      <td>'Salem's Lot (2004)</td>\n",
       "      <td>27751</td>\n",
       "      <td>Drama|Horror|Mystery|Thriller</td>\n",
       "      <td>5.000000</td>\n",
       "    </tr>\n",
       "    <tr>\n",
       "      <th>4</th>\n",
       "      <td>'Til There Was You (1997)</td>\n",
       "      <td>779</td>\n",
       "      <td>Drama|Romance</td>\n",
       "      <td>4.000000</td>\n",
       "    </tr>\n",
       "    <tr>\n",
       "      <th>...</th>\n",
       "      <td>...</td>\n",
       "      <td>...</td>\n",
       "      <td>...</td>\n",
       "      <td>...</td>\n",
       "    </tr>\n",
       "    <tr>\n",
       "      <th>9719</th>\n",
       "      <td>eXistenZ (1999)</td>\n",
       "      <td>2600</td>\n",
       "      <td>Action|Sci-Fi|Thriller</td>\n",
       "      <td>3.863636</td>\n",
       "    </tr>\n",
       "    <tr>\n",
       "      <th>9720</th>\n",
       "      <td>xXx (2002)</td>\n",
       "      <td>5507</td>\n",
       "      <td>Action|Crime|Thriller</td>\n",
       "      <td>2.770833</td>\n",
       "    </tr>\n",
       "    <tr>\n",
       "      <th>9721</th>\n",
       "      <td>xXx: State of the Union (2005)</td>\n",
       "      <td>33158</td>\n",
       "      <td>Action|Crime|Thriller</td>\n",
       "      <td>2.000000</td>\n",
       "    </tr>\n",
       "    <tr>\n",
       "      <th>9722</th>\n",
       "      <td>¡Three Amigos! (1986)</td>\n",
       "      <td>2478</td>\n",
       "      <td>Comedy|Western</td>\n",
       "      <td>3.134615</td>\n",
       "    </tr>\n",
       "    <tr>\n",
       "      <th>9723</th>\n",
       "      <td>À nous la liberté (Freedom for Us) (1931)</td>\n",
       "      <td>5560</td>\n",
       "      <td>Comedy|Musical</td>\n",
       "      <td>1.000000</td>\n",
       "    </tr>\n",
       "  </tbody>\n",
       "</table>\n",
       "<p>9724 rows × 4 columns</p>\n",
       "</div>"
      ],
      "text/plain": [
       "                                          title  movieId  \\\n",
       "0                                    '71 (2014)   117867   \n",
       "1       'Hellboy': The Seeds of Creation (2004)    97757   \n",
       "2                        'Round Midnight (1986)    26564   \n",
       "3                           'Salem's Lot (2004)    27751   \n",
       "4                     'Til There Was You (1997)      779   \n",
       "...                                         ...      ...   \n",
       "9719                            eXistenZ (1999)     2600   \n",
       "9720                                 xXx (2002)     5507   \n",
       "9721             xXx: State of the Union (2005)    33158   \n",
       "9722                      ¡Three Amigos! (1986)     2478   \n",
       "9723  À nous la liberté (Freedom for Us) (1931)     5560   \n",
       "\n",
       "                                           genres    rating  \n",
       "0                       Action|Drama|Thriller|War  4.000000  \n",
       "1     Action|Adventure|Comedy|Documentary|Fantasy  4.000000  \n",
       "2                                   Drama|Musical  3.500000  \n",
       "3                   Drama|Horror|Mystery|Thriller  5.000000  \n",
       "4                                   Drama|Romance  4.000000  \n",
       "...                                           ...       ...  \n",
       "9719                       Action|Sci-Fi|Thriller  3.863636  \n",
       "9720                        Action|Crime|Thriller  2.770833  \n",
       "9721                        Action|Crime|Thriller  2.000000  \n",
       "9722                               Comedy|Western  3.134615  \n",
       "9723                               Comedy|Musical  1.000000  \n",
       "\n",
       "[9724 rows x 4 columns]"
      ]
     },
     "execution_count": 3,
     "metadata": {},
     "output_type": "execute_result"
    }
   ],
   "source": [
    "average_rating = movie_info.groupby(['title','movieId', 'genres'], as_index=False)['rating'].mean()\n",
    "# average_rating = average_rating.to_frame()\n",
    "average_rating"
   ]
  },
  {
   "cell_type": "markdown",
   "metadata": {},
   "source": [
    "#### Compute Similarity Matrix using TF-IDF and Cosine Similarity"
   ]
  },
  {
   "cell_type": "code",
   "execution_count": 4,
   "metadata": {
    "colab": {
     "base_uri": "https://localhost:8080/"
    },
    "id": "TSyoNDmnKG4t",
    "outputId": "094ce606-9f05-4a53-82f9-ec823d92898e"
   },
   "outputs": [
    {
     "name": "stdout",
     "output_type": "stream",
     "text": [
      "This dataset include movies from the following list of genres: \n",
      " ['Adventure', 'Animation', 'Children', 'Comedy', 'Fantasy', 'Romance', 'Drama', 'Action', 'Crime', 'Thriller', 'Horror', 'Mystery', 'Sci-Fi', 'War', 'Musical', 'Documentary', 'IMAX', 'Western', 'Film-Noir', '']\n"
     ]
    }
   ],
   "source": [
    "# We filter genres from movies so that repetition of the movie titles does not occur\n",
    "genre = movies['genres']\n",
    "# print(genre)\n",
    "genre = genre.replace(to_replace = '(no genres listed)', value = '')\n",
    "print('This dataset include movies from the following list of genres: \\n', list_of_genres(genre))"
   ]
  },
  {
   "cell_type": "code",
   "execution_count": 5,
   "metadata": {
    "colab": {
     "base_uri": "https://localhost:8080/"
    },
    "id": "-R6F_yClCSzU",
    "outputId": "a0ca29f9-d518-444f-c739-7e3abd9afb6f"
   },
   "outputs": [
    {
     "name": "stdout",
     "output_type": "stream",
     "text": [
      "(9742, 174)\n",
      "  (0, 63)\t0.4051430286389587\n",
      "  (0, 47)\t0.3681884973089335\n",
      "  (0, 34)\t0.38369482677526473\n",
      "  (0, 18)\t0.4008862821540716\n",
      "  (0, 108)\t0.30254034715329503\n",
      "  (0, 59)\t0.16761357728391116\n",
      "  (0, 46)\t0.3162303113127544\n",
      "  (0, 33)\t0.32335863498874723\n",
      "  (0, 17)\t0.26110809240797916\n",
      "  (1, 51)\t0.5795995638728872\n",
      "  (1, 19)\t0.5337814180965866\n",
      "  (1, 108)\t0.36554429536140276\n",
      "  (1, 46)\t0.382085190978399\n",
      "  (1, 17)\t0.31548378439611124\n",
      "  (2, 68)\t0.7695974416123483\n",
      "  (2, 157)\t0.5242383036039113\n",
      "  (2, 59)\t0.36454626441402677\n",
      "  (3, 103)\t0.5645649298589199\n",
      "  (3, 62)\t0.5417511322516687\n",
      "  (3, 96)\t0.2904365851652309\n",
      "  (3, 157)\t0.4522400920963429\n",
      "  (3, 59)\t0.31447995130958456\n",
      "  (4, 59)\t1.0\n",
      "  (5, 84)\t0.604518892749723\n",
      "  (5, 5)\t0.5454388121871825\n",
      "  :\t:\n",
      "  (9733, 38)\t0.835677806885533\n",
      "  (9733, 96)\t0.23714974930952545\n",
      "  (9733, 33)\t0.495381266784903\n",
      "  (9734, 62)\t0.7846149876753742\n",
      "  (9734, 96)\t0.42063760299449465\n",
      "  (9734, 59)\t0.4554594691761476\n",
      "  (9735, 33)\t1.0\n",
      "  (9736, 86)\t1.0\n",
      "  (9737, 2)\t0.5335755137706529\n",
      "  (9737, 35)\t0.48852761033721437\n",
      "  (9737, 0)\t0.23849873017217763\n",
      "  (9737, 63)\t0.4212194165327047\n",
      "  (9737, 108)\t0.31454538150050887\n",
      "  (9737, 59)\t0.17426461332352133\n",
      "  (9737, 33)\t0.33618975505598625\n",
      "  (9738, 35)\t0.6020590403453507\n",
      "  (9738, 63)\t0.5191087511255665\n",
      "  (9738, 108)\t0.3876441914931675\n",
      "  (9738, 59)\t0.21476285811418472\n",
      "  (9738, 33)\t0.4143186117223373\n",
      "  (9739, 96)\t1.0\n",
      "  (9740, 2)\t0.7913659180854576\n",
      "  (9740, 0)\t0.3537264392646911\n",
      "  (9740, 33)\t0.4986156734980192\n",
      "  (9741, 59)\t1.0\n"
     ]
    }
   ],
   "source": [
    "# initializing the vectorizer\n",
    "vectorizer = TfidfVectorizer(analyzer='word', ngram_range=(1, 2), min_df=0, stop_words='english')\n",
    "# constructing the genre tf-idf matrix using fit and transform\n",
    "tfidf_genre_matrix = vectorizer.fit_transform(genre)\n",
    "print(tfidf_genre_matrix.shape)\n",
    "print(tfidf_genre_matrix)"
   ]
  },
  {
   "cell_type": "code",
   "execution_count": 6,
   "metadata": {
    "id": "qypNcPJ0CSzV"
   },
   "outputs": [
    {
     "data": {
      "text/plain": [
       "array([[1.        , 0.31379419, 0.0611029 , ..., 0.        , 0.16123168,\n",
       "        0.16761358],\n",
       "       [0.31379419, 1.        , 0.        , ..., 0.        , 0.        ,\n",
       "        0.        ],\n",
       "       [0.0611029 , 0.        , 1.        , ..., 0.        , 0.        ,\n",
       "        0.36454626],\n",
       "       ...,\n",
       "       [0.        , 0.        , 0.        , ..., 1.        , 0.        ,\n",
       "        0.        ],\n",
       "       [0.16123168, 0.        , 0.        , ..., 0.        , 1.        ,\n",
       "        0.        ],\n",
       "       [0.16761358, 0.        , 0.36454626, ..., 0.        , 0.        ,\n",
       "        1.        ]])"
      ]
     },
     "execution_count": 6,
     "metadata": {},
     "output_type": "execute_result"
    }
   ],
   "source": [
    "similar_movie = linear_kernel(tfidf_genre_matrix, tfidf_genre_matrix)\n",
    "similar_movie"
   ]
  },
  {
   "cell_type": "markdown",
   "metadata": {
    "id": "AE77PgDbCSzU"
   },
   "source": [
    "### Recommend Top 20 Movies Similar to a Particular Movie"
   ]
  },
  {
   "cell_type": "markdown",
   "metadata": {},
   "source": [
    "#### Generate Recommendations (By Movie)"
   ]
  },
  {
   "cell_type": "code",
   "execution_count": 7,
   "metadata": {
    "colab": {
     "base_uri": "https://localhost:8080/"
    },
    "id": "KwNpkoZ7CSzW",
    "outputId": "8ec14c59-a787-4b75-94fd-c0ac65a00e0e"
   },
   "outputs": [
    {
     "name": "stdout",
     "output_type": "stream",
     "text": [
      "0                      Toy Story (1995)\n",
      "1                        Jumanji (1995)\n",
      "2               Grumpier Old Men (1995)\n",
      "3              Waiting to Exhale (1995)\n",
      "4    Father of the Bride Part II (1995)\n",
      "Name: title, dtype: object\n"
     ]
    }
   ],
   "source": [
    "title = movies['title']\n",
    "print(title.head())"
   ]
  },
  {
   "cell_type": "code",
   "execution_count": 8,
   "metadata": {
    "colab": {
     "base_uri": "https://localhost:8080/",
     "height": 652
    },
    "id": "TCRIUxRMCSzY",
    "outputId": "5922e852-adcd-4f0d-f540-d3e2636f6b8e"
   },
   "outputs": [
    {
     "name": "stdout",
     "output_type": "stream",
     "text": [
      "Top 20 Movies Similar to Silence of the Lambs, The (1991) are:\n"
     ]
    },
    {
     "data": {
      "text/html": [
       "<div>\n",
       "<style scoped>\n",
       "    .dataframe tbody tr th:only-of-type {\n",
       "        vertical-align: middle;\n",
       "    }\n",
       "\n",
       "    .dataframe tbody tr th {\n",
       "        vertical-align: top;\n",
       "    }\n",
       "\n",
       "    .dataframe thead th {\n",
       "        text-align: right;\n",
       "    }\n",
       "</style>\n",
       "<table border=\"1\" class=\"dataframe\">\n",
       "  <thead>\n",
       "    <tr style=\"text-align: right;\">\n",
       "      <th></th>\n",
       "      <th>title</th>\n",
       "      <th>movieId</th>\n",
       "      <th>genres</th>\n",
       "      <th>rating</th>\n",
       "    </tr>\n",
       "  </thead>\n",
       "  <tbody>\n",
       "    <tr>\n",
       "      <th>0</th>\n",
       "      <td>Usual Suspects, The (1995)</td>\n",
       "      <td>50</td>\n",
       "      <td>Crime|Mystery|Thriller</td>\n",
       "      <td>4.237745</td>\n",
       "    </tr>\n",
       "    <tr>\n",
       "      <th>1</th>\n",
       "      <td>Twelve Monkeys (a.k.a. 12 Monkeys) (1995)</td>\n",
       "      <td>32</td>\n",
       "      <td>Mystery|Sci-Fi|Thriller</td>\n",
       "      <td>3.983051</td>\n",
       "    </tr>\n",
       "    <tr>\n",
       "      <th>2</th>\n",
       "      <td>Seven (a.k.a. Se7en) (1995)</td>\n",
       "      <td>47</td>\n",
       "      <td>Mystery|Thriller</td>\n",
       "      <td>3.975369</td>\n",
       "    </tr>\n",
       "    <tr>\n",
       "      <th>3</th>\n",
       "      <td>Heat (1995)</td>\n",
       "      <td>6</td>\n",
       "      <td>Action|Crime|Thriller</td>\n",
       "      <td>3.946078</td>\n",
       "    </tr>\n",
       "    <tr>\n",
       "      <th>4</th>\n",
       "      <td>Casino (1995)</td>\n",
       "      <td>16</td>\n",
       "      <td>Crime|Drama</td>\n",
       "      <td>3.926829</td>\n",
       "    </tr>\n",
       "    <tr>\n",
       "      <th>5</th>\n",
       "      <td>Dead Man Walking (1995)</td>\n",
       "      <td>36</td>\n",
       "      <td>Crime|Drama</td>\n",
       "      <td>3.835821</td>\n",
       "    </tr>\n",
       "    <tr>\n",
       "      <th>6</th>\n",
       "      <td>Eye for an Eye (1996)</td>\n",
       "      <td>61</td>\n",
       "      <td>Drama|Thriller</td>\n",
       "      <td>3.750000</td>\n",
       "    </tr>\n",
       "    <tr>\n",
       "      <th>7</th>\n",
       "      <td>From Dusk Till Dawn (1996)</td>\n",
       "      <td>70</td>\n",
       "      <td>Action|Comedy|Horror|Thriller</td>\n",
       "      <td>3.509091</td>\n",
       "    </tr>\n",
       "    <tr>\n",
       "      <th>8</th>\n",
       "      <td>GoldenEye (1995)</td>\n",
       "      <td>10</td>\n",
       "      <td>Action|Adventure|Thriller</td>\n",
       "      <td>3.496212</td>\n",
       "    </tr>\n",
       "    <tr>\n",
       "      <th>9</th>\n",
       "      <td>Get Shorty (1995)</td>\n",
       "      <td>21</td>\n",
       "      <td>Comedy|Crime|Thriller</td>\n",
       "      <td>3.494382</td>\n",
       "    </tr>\n",
       "    <tr>\n",
       "      <th>10</th>\n",
       "      <td>Screamers (1995)</td>\n",
       "      <td>76</td>\n",
       "      <td>Action|Sci-Fi|Thriller</td>\n",
       "      <td>3.400000</td>\n",
       "    </tr>\n",
       "    <tr>\n",
       "      <th>11</th>\n",
       "      <td>To Die For (1995)</td>\n",
       "      <td>45</td>\n",
       "      <td>Comedy|Drama|Thriller</td>\n",
       "      <td>3.312500</td>\n",
       "    </tr>\n",
       "    <tr>\n",
       "      <th>12</th>\n",
       "      <td>Copycat (1995)</td>\n",
       "      <td>22</td>\n",
       "      <td>Crime|Drama|Horror|Mystery|Thriller</td>\n",
       "      <td>3.222222</td>\n",
       "    </tr>\n",
       "    <tr>\n",
       "      <th>13</th>\n",
       "      <td>Assassins (1995)</td>\n",
       "      <td>23</td>\n",
       "      <td>Action|Crime|Thriller</td>\n",
       "      <td>3.125000</td>\n",
       "    </tr>\n",
       "    <tr>\n",
       "      <th>14</th>\n",
       "      <td>Shanghai Triad (Yao a yao yao dao waipo qiao) ...</td>\n",
       "      <td>30</td>\n",
       "      <td>Crime|Drama</td>\n",
       "      <td>3.000000</td>\n",
       "    </tr>\n",
       "    <tr>\n",
       "      <th>15</th>\n",
       "      <td>Dead Presidents (1995)</td>\n",
       "      <td>42</td>\n",
       "      <td>Action|Crime|Drama</td>\n",
       "      <td>3.000000</td>\n",
       "    </tr>\n",
       "    <tr>\n",
       "      <th>16</th>\n",
       "      <td>Don't Be a Menace to South Central While Drink...</td>\n",
       "      <td>63</td>\n",
       "      <td>Comedy|Crime</td>\n",
       "      <td>2.714286</td>\n",
       "    </tr>\n",
       "    <tr>\n",
       "      <th>17</th>\n",
       "      <td>Money Train (1995)</td>\n",
       "      <td>20</td>\n",
       "      <td>Action|Comedy|Crime|Drama|Thriller</td>\n",
       "      <td>2.500000</td>\n",
       "    </tr>\n",
       "    <tr>\n",
       "      <th>18</th>\n",
       "      <td>Lawnmower Man 2: Beyond Cyberspace (1996)</td>\n",
       "      <td>66</td>\n",
       "      <td>Action|Sci-Fi|Thriller</td>\n",
       "      <td>2.500000</td>\n",
       "    </tr>\n",
       "    <tr>\n",
       "      <th>19</th>\n",
       "      <td>Dracula: Dead and Loving It (1995)</td>\n",
       "      <td>12</td>\n",
       "      <td>Comedy|Horror</td>\n",
       "      <td>2.421053</td>\n",
       "    </tr>\n",
       "  </tbody>\n",
       "</table>\n",
       "</div>"
      ],
      "text/plain": [
       "                                                title  movieId  \\\n",
       "0                          Usual Suspects, The (1995)       50   \n",
       "1           Twelve Monkeys (a.k.a. 12 Monkeys) (1995)       32   \n",
       "2                         Seven (a.k.a. Se7en) (1995)       47   \n",
       "3                                         Heat (1995)        6   \n",
       "4                                       Casino (1995)       16   \n",
       "5                             Dead Man Walking (1995)       36   \n",
       "6                               Eye for an Eye (1996)       61   \n",
       "7                          From Dusk Till Dawn (1996)       70   \n",
       "8                                    GoldenEye (1995)       10   \n",
       "9                                   Get Shorty (1995)       21   \n",
       "10                                   Screamers (1995)       76   \n",
       "11                                  To Die For (1995)       45   \n",
       "12                                     Copycat (1995)       22   \n",
       "13                                   Assassins (1995)       23   \n",
       "14  Shanghai Triad (Yao a yao yao dao waipo qiao) ...       30   \n",
       "15                             Dead Presidents (1995)       42   \n",
       "16  Don't Be a Menace to South Central While Drink...       63   \n",
       "17                                 Money Train (1995)       20   \n",
       "18          Lawnmower Man 2: Beyond Cyberspace (1996)       66   \n",
       "19                 Dracula: Dead and Loving It (1995)       12   \n",
       "\n",
       "                                 genres    rating  \n",
       "0                Crime|Mystery|Thriller  4.237745  \n",
       "1               Mystery|Sci-Fi|Thriller  3.983051  \n",
       "2                      Mystery|Thriller  3.975369  \n",
       "3                 Action|Crime|Thriller  3.946078  \n",
       "4                           Crime|Drama  3.926829  \n",
       "5                           Crime|Drama  3.835821  \n",
       "6                        Drama|Thriller  3.750000  \n",
       "7         Action|Comedy|Horror|Thriller  3.509091  \n",
       "8             Action|Adventure|Thriller  3.496212  \n",
       "9                 Comedy|Crime|Thriller  3.494382  \n",
       "10               Action|Sci-Fi|Thriller  3.400000  \n",
       "11                Comedy|Drama|Thriller  3.312500  \n",
       "12  Crime|Drama|Horror|Mystery|Thriller  3.222222  \n",
       "13                Action|Crime|Thriller  3.125000  \n",
       "14                          Crime|Drama  3.000000  \n",
       "15                   Action|Crime|Drama  3.000000  \n",
       "16                         Comedy|Crime  2.714286  \n",
       "17   Action|Comedy|Crime|Drama|Thriller  2.500000  \n",
       "18               Action|Sci-Fi|Thriller  2.500000  \n",
       "19                        Comedy|Horror  2.421053  "
      ]
     },
     "execution_count": 8,
     "metadata": {},
     "output_type": "execute_result"
    }
   ],
   "source": [
    "# generate recommendations based on a target movie\n",
    "recommended_movies = movie_list_by_title('Silence of the Lambs, The (1991)', title, similar_movie, average_rating)\n",
    "recommended_movies"
   ]
  },
  {
   "cell_type": "markdown",
   "metadata": {},
   "source": [
    "#### Evaluation (By Movie)"
   ]
  },
  {
   "cell_type": "code",
   "execution_count": 9,
   "metadata": {},
   "outputs": [
    {
     "name": "stdout",
     "output_type": "stream",
     "text": [
      "The Hit Rate for this method is: 0.4827586206896552\n"
     ]
    }
   ],
   "source": [
    "# find hit rate of the recommendations based on genre\n",
    "hit_rate_movie = movie_evaluation('Silence of the Lambs, The (1991)', recommended_movies)\n",
    "print('The Hit Rate for this method is:', hit_rate_movie)"
   ]
  }
 ],
 "metadata": {
  "colab": {
   "collapsed_sections": [
    "oo2qqPFfCSzR"
   ],
   "name": "Content-based Filtering.ipynb",
   "provenance": []
  },
  "kernelspec": {
   "display_name": "Python 3",
   "language": "python",
   "name": "python3"
  },
  "language_info": {
   "codemirror_mode": {
    "name": "ipython",
    "version": 3
   },
   "file_extension": ".py",
   "mimetype": "text/x-python",
   "name": "python",
   "nbconvert_exporter": "python",
   "pygments_lexer": "ipython3",
   "version": "3.8.5"
  }
 },
 "nbformat": 4,
 "nbformat_minor": 1
}
