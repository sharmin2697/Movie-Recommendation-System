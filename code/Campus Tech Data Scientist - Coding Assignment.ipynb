{
 "cells": [
  {
   "cell_type": "markdown",
   "metadata": {},
   "source": [
    "## IMPORT"
   ]
  },
  {
   "cell_type": "markdown",
   "metadata": {},
   "source": [
    "### Import Statements"
   ]
  },
  {
   "cell_type": "code",
   "execution_count": 33,
   "metadata": {},
   "outputs": [],
   "source": [
    "# Libraries such as Pandas, NumPy, Sklearn, Matplotlib and Seaborn, were mainly used to manipulate and analyze the data.\n",
    "\n",
    "import pandas as pd\n",
    "import numpy as np\n",
    "import seaborn as sns\n",
    "import matplotlib.pyplot as plt\n",
    "from sklearn.model_selection import train_test_split\n",
    "from sklearn.preprocessing import StandardScaler\n",
    "from sklearn.linear_model import LogisticRegression\n",
    "from sklearn.tree import DecisionTreeClassifier\n",
    "from sklearn.svm import SVC\n",
    "from sklearn.neighbors import KNeighborsClassifier\n",
    "from sklearn.ensemble import RandomForestClassifier\n",
    "from xgboost.sklearn import XGBClassifier\n",
    "from sklearn.metrics import classification_report\n",
    "from sklearn.metrics import confusion_matrix\n",
    "from sklearn.metrics import accuracy_score\n",
    "import warnings\n",
    "warnings.filterwarnings('ignore')"
   ]
  },
  {
   "cell_type": "markdown",
   "metadata": {},
   "source": [
    "### Import Data"
   ]
  },
  {
   "cell_type": "code",
   "execution_count": 34,
   "metadata": {},
   "outputs": [
    {
     "name": "stdout",
     "output_type": "stream",
     "text": [
      "Frist 5 rows:\n",
      "    y x1        x2        x3        x4        x5        x6        x7        x8  \\\n",
      "0  0  a -0.375866  0.427942 -0.922338  0.210758  0.109015  0.621001 -0.444421   \n",
      "1  0  b  0.047819  0.115627 -1.781739 -0.272785  0.392783  1.094168 -0.975254   \n",
      "2  1  d  0.372868 -0.263291 -1.120545 -0.773828  0.830072 -1.727836  1.323876   \n",
      "3  0  c  0.059598  0.270797  0.961795 -1.804197  2.931330  1.891656  0.094252   \n",
      "4  1  d  0.616319  0.291275 -1.113519  0.626864 -0.287989 -0.842649 -0.947257   \n",
      "\n",
      "         x9       x10       x11  \n",
      "0  0.089970 -0.707711  0.473700  \n",
      "1 -0.353424  0.145543 -0.064961  \n",
      "2 -1.587291 -0.024916  0.082491  \n",
      "3 -0.873467 -1.217680 -1.848046  \n",
      "4  1.198215  0.972420 -1.054313  \n"
     ]
    }
   ],
   "source": [
    "# Import and print the first 5 instances\n",
    "df = pd.read_csv('DataSet2.csv', header=0)\n",
    "print('Frist 5 rows:\\n', df.head())\n",
    "df_copy = df.copy(deep=True)\n",
    "# print('Frist 5 rows:\\n', df_copy.head())"
   ]
  },
  {
   "cell_type": "markdown",
   "metadata": {},
   "source": [
    "## EXPLORATORY DATA ANALYSIS"
   ]
  },
  {
   "cell_type": "markdown",
   "metadata": {},
   "source": [
    "### Data Exploration"
   ]
  },
  {
   "cell_type": "code",
   "execution_count": 35,
   "metadata": {},
   "outputs": [
    {
     "name": "stdout",
     "output_type": "stream",
     "text": [
      "Basic information on the data:\n",
      "<class 'pandas.core.frame.DataFrame'>\n",
      "RangeIndex: 1700 entries, 0 to 1699\n",
      "Data columns (total 12 columns):\n",
      " #   Column  Non-Null Count  Dtype  \n",
      "---  ------  --------------  -----  \n",
      " 0   y       1700 non-null   int64  \n",
      " 1   x1      1700 non-null   object \n",
      " 2   x2      1700 non-null   float64\n",
      " 3   x3      1700 non-null   float64\n",
      " 4   x4      1700 non-null   float64\n",
      " 5   x5      1700 non-null   float64\n",
      " 6   x6      1700 non-null   float64\n",
      " 7   x7      1700 non-null   float64\n",
      " 8   x8      1700 non-null   float64\n",
      " 9   x9      1700 non-null   float64\n",
      " 10  x10     1700 non-null   float64\n",
      " 11  x11     1700 non-null   float64\n",
      "dtypes: float64(10), int64(1), object(1)\n",
      "memory usage: 159.5+ KB\n",
      "None\n"
     ]
    }
   ],
   "source": [
    "# We can see that there is only 1 categorical feature 'x1' and 10 numerical features, excluding the binary target 'y'.\n",
    "print('Basic information on the data:')\n",
    "print(df.info())"
   ]
  },
  {
   "cell_type": "code",
   "execution_count": 36,
   "metadata": {
    "scrolled": true
   },
   "outputs": [
    {
     "name": "stdout",
     "output_type": "stream",
     "text": [
      "Data Description:\n"
     ]
    },
    {
     "data": {
      "text/html": [
       "<div>\n",
       "<style scoped>\n",
       "    .dataframe tbody tr th:only-of-type {\n",
       "        vertical-align: middle;\n",
       "    }\n",
       "\n",
       "    .dataframe tbody tr th {\n",
       "        vertical-align: top;\n",
       "    }\n",
       "\n",
       "    .dataframe thead th {\n",
       "        text-align: right;\n",
       "    }\n",
       "</style>\n",
       "<table border=\"1\" class=\"dataframe\">\n",
       "  <thead>\n",
       "    <tr style=\"text-align: right;\">\n",
       "      <th></th>\n",
       "      <th>y</th>\n",
       "      <th>x2</th>\n",
       "      <th>x3</th>\n",
       "      <th>x4</th>\n",
       "      <th>x5</th>\n",
       "      <th>x6</th>\n",
       "      <th>x7</th>\n",
       "      <th>x8</th>\n",
       "      <th>x9</th>\n",
       "      <th>x10</th>\n",
       "      <th>x11</th>\n",
       "    </tr>\n",
       "  </thead>\n",
       "  <tbody>\n",
       "    <tr>\n",
       "      <th>count</th>\n",
       "      <td>1700.000000</td>\n",
       "      <td>1700.000000</td>\n",
       "      <td>1700.000000</td>\n",
       "      <td>1700.000000</td>\n",
       "      <td>1700.000000</td>\n",
       "      <td>1700.000000</td>\n",
       "      <td>1700.000000</td>\n",
       "      <td>1700.000000</td>\n",
       "      <td>1700.000000</td>\n",
       "      <td>1700.000000</td>\n",
       "      <td>1700.000000</td>\n",
       "    </tr>\n",
       "    <tr>\n",
       "      <th>mean</th>\n",
       "      <td>0.411765</td>\n",
       "      <td>-0.066277</td>\n",
       "      <td>0.025411</td>\n",
       "      <td>-0.004941</td>\n",
       "      <td>-0.018150</td>\n",
       "      <td>0.004139</td>\n",
       "      <td>-0.004442</td>\n",
       "      <td>0.039203</td>\n",
       "      <td>-0.024454</td>\n",
       "      <td>-0.008586</td>\n",
       "      <td>0.005379</td>\n",
       "    </tr>\n",
       "    <tr>\n",
       "      <th>std</th>\n",
       "      <td>0.492298</td>\n",
       "      <td>0.421414</td>\n",
       "      <td>0.284509</td>\n",
       "      <td>1.001383</td>\n",
       "      <td>0.983988</td>\n",
       "      <td>1.031957</td>\n",
       "      <td>1.033610</td>\n",
       "      <td>0.978798</td>\n",
       "      <td>0.987621</td>\n",
       "      <td>0.993979</td>\n",
       "      <td>1.017824</td>\n",
       "    </tr>\n",
       "    <tr>\n",
       "      <th>min</th>\n",
       "      <td>0.000000</td>\n",
       "      <td>-0.925228</td>\n",
       "      <td>-0.931249</td>\n",
       "      <td>-3.547109</td>\n",
       "      <td>-4.166713</td>\n",
       "      <td>-3.271321</td>\n",
       "      <td>-3.050503</td>\n",
       "      <td>-3.188723</td>\n",
       "      <td>-3.691485</td>\n",
       "      <td>-3.426298</td>\n",
       "      <td>-4.075024</td>\n",
       "    </tr>\n",
       "    <tr>\n",
       "      <th>25%</th>\n",
       "      <td>0.000000</td>\n",
       "      <td>-0.383928</td>\n",
       "      <td>-0.189961</td>\n",
       "      <td>-0.693761</td>\n",
       "      <td>-0.630827</td>\n",
       "      <td>-0.717443</td>\n",
       "      <td>-0.679205</td>\n",
       "      <td>-0.606272</td>\n",
       "      <td>-0.691628</td>\n",
       "      <td>-0.643558</td>\n",
       "      <td>-0.679580</td>\n",
       "    </tr>\n",
       "    <tr>\n",
       "      <th>50%</th>\n",
       "      <td>0.000000</td>\n",
       "      <td>0.018826</td>\n",
       "      <td>0.011861</td>\n",
       "      <td>0.002496</td>\n",
       "      <td>0.008173</td>\n",
       "      <td>0.015596</td>\n",
       "      <td>-0.021232</td>\n",
       "      <td>0.049557</td>\n",
       "      <td>-0.040668</td>\n",
       "      <td>0.012354</td>\n",
       "      <td>0.009655</td>\n",
       "    </tr>\n",
       "    <tr>\n",
       "      <th>75%</th>\n",
       "      <td>1.000000</td>\n",
       "      <td>0.156138</td>\n",
       "      <td>0.270204</td>\n",
       "      <td>0.697783</td>\n",
       "      <td>0.638092</td>\n",
       "      <td>0.748816</td>\n",
       "      <td>0.713769</td>\n",
       "      <td>0.673363</td>\n",
       "      <td>0.629988</td>\n",
       "      <td>0.654637</td>\n",
       "      <td>0.692432</td>\n",
       "    </tr>\n",
       "    <tr>\n",
       "      <th>max</th>\n",
       "      <td>1.000000</td>\n",
       "      <td>0.696405</td>\n",
       "      <td>0.567431</td>\n",
       "      <td>2.977407</td>\n",
       "      <td>3.434698</td>\n",
       "      <td>3.575212</td>\n",
       "      <td>3.387439</td>\n",
       "      <td>4.651006</td>\n",
       "      <td>3.763927</td>\n",
       "      <td>3.259833</td>\n",
       "      <td>3.095674</td>\n",
       "    </tr>\n",
       "  </tbody>\n",
       "</table>\n",
       "</div>"
      ],
      "text/plain": [
       "                 y           x2           x3           x4           x5  \\\n",
       "count  1700.000000  1700.000000  1700.000000  1700.000000  1700.000000   \n",
       "mean      0.411765    -0.066277     0.025411    -0.004941    -0.018150   \n",
       "std       0.492298     0.421414     0.284509     1.001383     0.983988   \n",
       "min       0.000000    -0.925228    -0.931249    -3.547109    -4.166713   \n",
       "25%       0.000000    -0.383928    -0.189961    -0.693761    -0.630827   \n",
       "50%       0.000000     0.018826     0.011861     0.002496     0.008173   \n",
       "75%       1.000000     0.156138     0.270204     0.697783     0.638092   \n",
       "max       1.000000     0.696405     0.567431     2.977407     3.434698   \n",
       "\n",
       "                x6           x7           x8           x9          x10  \\\n",
       "count  1700.000000  1700.000000  1700.000000  1700.000000  1700.000000   \n",
       "mean      0.004139    -0.004442     0.039203    -0.024454    -0.008586   \n",
       "std       1.031957     1.033610     0.978798     0.987621     0.993979   \n",
       "min      -3.271321    -3.050503    -3.188723    -3.691485    -3.426298   \n",
       "25%      -0.717443    -0.679205    -0.606272    -0.691628    -0.643558   \n",
       "50%       0.015596    -0.021232     0.049557    -0.040668     0.012354   \n",
       "75%       0.748816     0.713769     0.673363     0.629988     0.654637   \n",
       "max       3.575212     3.387439     4.651006     3.763927     3.259833   \n",
       "\n",
       "               x11  \n",
       "count  1700.000000  \n",
       "mean      0.005379  \n",
       "std       1.017824  \n",
       "min      -4.075024  \n",
       "25%      -0.679580  \n",
       "50%       0.009655  \n",
       "75%       0.692432  \n",
       "max       3.095674  "
      ]
     },
     "execution_count": 36,
     "metadata": {},
     "output_type": "execute_result"
    }
   ],
   "source": [
    "# By looking at the max values, it can be inferred that the data will need to be standardized.\n",
    "print('Data Description:')\n",
    "df.describe()"
   ]
  },
  {
   "cell_type": "code",
   "execution_count": 37,
   "metadata": {},
   "outputs": [
    {
     "data": {
      "text/html": [
       "<div>\n",
       "<style scoped>\n",
       "    .dataframe tbody tr th:only-of-type {\n",
       "        vertical-align: middle;\n",
       "    }\n",
       "\n",
       "    .dataframe tbody tr th {\n",
       "        vertical-align: top;\n",
       "    }\n",
       "\n",
       "    .dataframe thead th {\n",
       "        text-align: right;\n",
       "    }\n",
       "</style>\n",
       "<table border=\"1\" class=\"dataframe\">\n",
       "  <thead>\n",
       "    <tr style=\"text-align: right;\">\n",
       "      <th></th>\n",
       "      <th>rows</th>\n",
       "      <th>columns</th>\n",
       "    </tr>\n",
       "  </thead>\n",
       "  <tbody>\n",
       "    <tr>\n",
       "      <th>0</th>\n",
       "      <td>1700</td>\n",
       "      <td>12</td>\n",
       "    </tr>\n",
       "  </tbody>\n",
       "</table>\n",
       "</div>"
      ],
      "text/plain": [
       "   rows  columns\n",
       "0  1700       12"
      ]
     },
     "execution_count": 37,
     "metadata": {},
     "output_type": "execute_result"
    }
   ],
   "source": [
    "# Dimensions of the data\n",
    "# we have 1700 rows and 12 columns\n",
    "pd.DataFrame([[df.shape[0], df.shape[1]]], columns=('rows', 'columns'))"
   ]
  },
  {
   "cell_type": "code",
   "execution_count": 38,
   "metadata": {},
   "outputs": [
    {
     "data": {
      "text/plain": [
       "y      1700\n",
       "x1     1700\n",
       "x2     1700\n",
       "x3     1700\n",
       "x4     1700\n",
       "x5     1700\n",
       "x6     1700\n",
       "x7     1700\n",
       "x8     1700\n",
       "x9     1700\n",
       "x10    1700\n",
       "x11    1700\n",
       "dtype: int64"
      ]
     },
     "execution_count": 38,
     "metadata": {},
     "output_type": "execute_result"
    }
   ],
   "source": [
    "# Check for missing values or nan values\n",
    "# There are no missing or nan values present in the data\n",
    "# We do also do not need to check for any identifiers (columns with unique values), based on the previous descriptions\n",
    "df.isna().count()"
   ]
  },
  {
   "cell_type": "markdown",
   "metadata": {},
   "source": [
    "### Data Visualization"
   ]
  },
  {
   "cell_type": "code",
   "execution_count": 39,
   "metadata": {},
   "outputs": [
    {
     "data": {
      "image/png": "[encoded data removed]",
      "text/plain": [
       "<Figure size 720x576 with 2 Axes>"
      ]
     },
     "metadata": {
      "needs_background": "light"
     },
     "output_type": "display_data"
    }
   ],
   "source": [
    "# Using Seaborn library, we can check for the correlation between the features.\n",
    "# Note - this only takes into account numerical features\n",
    "\n",
    "# Create the correlation matrix using pandas\n",
    "df_corr = df.corr()\n",
    "# print(df_corr)\n",
    "\n",
    "# Plot the heatmap of the correlation matrix\n",
    "plt.figure(figsize=(10,8))\n",
    "corr_plot = sns.heatmap(df_corr, vmin=-1, vmax=1, center=0, \n",
    "                        cmap=plt.cm.CMRmap_r).set_title('Heatmap showing Correlation between Features')\n",
    "plt.show()\n",
    "\n"
   ]
  },
  {
   "cell_type": "markdown",
   "metadata": {},
   "source": [
    "##### Observation\n",
    "- We can see that the target 'y' and the feature 'x2' are positively correlated to each other\n",
    "- Target 'y' and the feature 'x3' are negatively correlated to each other - we may not require this feature during prediction (part of feature selection)\n",
    "- The remaining predictors do not seem to be correlated with each other mainly"
   ]
  },
  {
   "cell_type": "code",
   "execution_count": 40,
   "metadata": {},
   "outputs": [
    {
     "data": {
      "image/png": "[encoded data removed]",
      "text/plain": [
       "<Figure size 432x288 with 1 Axes>"
      ]
     },
     "metadata": {
      "needs_background": "light"
     },
     "output_type": "display_data"
    },
    {
     "data": {
      "image/png": "[encoded data removed]",
      "text/plain": [
       "<Figure size 432x288 with 1 Axes>"
      ]
     },
     "metadata": {
      "needs_background": "light"
     },
     "output_type": "display_data"
    },
    {
     "data": {
      "image/png": "[encoded data removed]",
      "text/plain": [
       "<Figure size 432x288 with 1 Axes>"
      ]
     },
     "metadata": {
      "needs_background": "light"
     },
     "output_type": "display_data"
    },
    {
     "data": {
      "image/png": "[encoded data removed]",
      "text/plain": [
       "<Figure size 432x288 with 1 Axes>"
      ]
     },
     "metadata": {
      "needs_background": "light"
     },
     "output_type": "display_data"
    },
    {
     "data": {
      "image/png": "[encoded data removed]",
      "text/plain": [
       "<Figure size 432x288 with 1 Axes>"
      ]
     },
     "metadata": {
      "needs_background": "light"
     },
     "output_type": "display_data"
    },
    {
     "data": {
      "image/png": "[encoded data removed]",
      "text/plain": [
       "<Figure size 432x288 with 1 Axes>"
      ]
     },
     "metadata": {
      "needs_background": "light"
     },
     "output_type": "display_data"
    },
    {
     "data": {
      "image/png": "[encoded data removed]",
      "text/plain": [
       "<Figure size 432x288 with 1 Axes>"
      ]
     },
     "metadata": {
      "needs_background": "light"
     },
     "output_type": "display_data"
    },
    {
     "data": {
      "image/png": "[encoded data removed]",
      "text/plain": [
       "<Figure size 432x288 with 1 Axes>"
      ]
     },
     "metadata": {
      "needs_background": "light"
     },
     "output_type": "display_data"
    },
    {
     "data": {
      "image/png": "[encoded data removed]",
      "text/plain": [
       "<Figure size 432x288 with 1 Axes>"
      ]
     },
     "metadata": {
      "needs_background": "light"
     },
     "output_type": "display_data"
    },
    {
     "data": {
      "image/png": "[encoded data removed]",
      "text/plain": [
       "<Figure size 432x288 with 1 Axes>"
      ]
     },
     "metadata": {
      "needs_background": "light"
     },
     "output_type": "display_data"
    }
   ],
   "source": [
    "# Visualization of Continuous (or numerical) features\n",
    "df_copy = df.copy()\n",
    "df_cont_feat = df_copy.drop(columns=['y','x1'], axis=1)\n",
    "# print(df_cont_feat.head())\n",
    "\n",
    "for cont_feat in df_cont_feat.columns:\n",
    "    df[cont_feat].hist(bins=25)\n",
    "    plt.xlabel(cont_feat)\n",
    "    plt.ylabel(\"Count\")\n",
    "    plt.title(cont_feat)\n",
    "    plt.show()\n",
    "    \n",
    "# We can clearly see that features 'x2' and 'x3' are not normally distributed\n",
    "# The remaining features are normally distributed."
   ]
  },
  {
   "cell_type": "code",
   "execution_count": 41,
   "metadata": {},
   "outputs": [
    {
     "data": {
      "image/png": "[encoded data removed]",
      "text/plain": [
       "<Figure size 432x288 with 1 Axes>"
      ]
     },
     "metadata": {
      "needs_background": "light"
     },
     "output_type": "display_data"
    }
   ],
   "source": [
    "# Visualization of Categorical feature\n",
    "# Classes 'a', 'b', and 'd' have almost the same number of instances. Class 'c' has the least number of instances.\n",
    "sns.countplot(x='x1', data=df)\n",
    "plt.title('Distribution of the Different Classes of x1')\n",
    "plt.show()"
   ]
  },
  {
   "cell_type": "code",
   "execution_count": 42,
   "metadata": {},
   "outputs": [
    {
     "data": {
      "image/png": "[encoded data removed]",
      "text/plain": [
       "<Figure size 432x288 with 1 Axes>"
      ]
     },
     "metadata": {
      "needs_background": "light"
     },
     "output_type": "display_data"
    }
   ],
   "source": [
    "# We can clearly see that all the 4 classes of feature 'x1', have more instances of y=0 than y=1\n",
    "sns.countplot(x='x1', hue='y', data=df)\n",
    "plt.title('Different Classes of x1 given the Target y')\n",
    "plt.show()"
   ]
  },
  {
   "cell_type": "markdown",
   "metadata": {},
   "source": [
    "## FEATURE ENGINEERING"
   ]
  },
  {
   "cell_type": "code",
   "execution_count": 43,
   "metadata": {},
   "outputs": [
    {
     "name": "stdout",
     "output_type": "stream",
     "text": [
      "   y x1        x2        x4        x5        x6        x7        x8        x9  \\\n",
      "0  0  a -0.375866 -0.922338  0.210758  0.109015  0.621001 -0.444421  0.089970   \n",
      "1  0  b  0.047819 -1.781739 -0.272785  0.392783  1.094168 -0.975254 -0.353424   \n",
      "2  1  d  0.372868 -1.120545 -0.773828  0.830072 -1.727836  1.323876 -1.587291   \n",
      "3  0  c  0.059598  0.961795 -1.804197  2.931330  1.891656  0.094252 -0.873467   \n",
      "4  1  d  0.616319 -1.113519  0.626864 -0.287989 -0.842649 -0.947257  1.198215   \n",
      "\n",
      "        x10       x11  \n",
      "0 -0.707711  0.473700  \n",
      "1  0.145543 -0.064961  \n",
      "2 -0.024916  0.082491  \n",
      "3 -1.217680 -1.848046  \n",
      "4  0.972420 -1.054313  \n"
     ]
    }
   ],
   "source": [
    "# As seen in the heatmap of the correlation values, 'x3' is negatively correlated to the target 'y'\n",
    "# Hence, we can remove it from the modeling process\n",
    "df = df.drop(columns='x3')\n",
    "print(df.head())"
   ]
  },
  {
   "cell_type": "code",
   "execution_count": 44,
   "metadata": {},
   "outputs": [
    {
     "data": {
      "text/plain": [
       "array(['a', 'b', 'd', 'c'], dtype=object)"
      ]
     },
     "execution_count": 44,
     "metadata": {},
     "output_type": "execute_result"
    }
   ],
   "source": [
    "# Exploring the categorical variable by looking at the unique classes in it\n",
    "df['x1'].unique()"
   ]
  },
  {
   "cell_type": "code",
   "execution_count": 45,
   "metadata": {},
   "outputs": [
    {
     "data": {
      "text/html": [
       "<div>\n",
       "<style scoped>\n",
       "    .dataframe tbody tr th:only-of-type {\n",
       "        vertical-align: middle;\n",
       "    }\n",
       "\n",
       "    .dataframe tbody tr th {\n",
       "        vertical-align: top;\n",
       "    }\n",
       "\n",
       "    .dataframe thead th {\n",
       "        text-align: right;\n",
       "    }\n",
       "</style>\n",
       "<table border=\"1\" class=\"dataframe\">\n",
       "  <thead>\n",
       "    <tr style=\"text-align: right;\">\n",
       "      <th></th>\n",
       "      <th>y</th>\n",
       "      <th>x2</th>\n",
       "      <th>x4</th>\n",
       "      <th>x5</th>\n",
       "      <th>x6</th>\n",
       "      <th>x7</th>\n",
       "      <th>x8</th>\n",
       "      <th>x9</th>\n",
       "      <th>x10</th>\n",
       "      <th>x11</th>\n",
       "      <th>x1_a</th>\n",
       "      <th>x1_b</th>\n",
       "      <th>x1_c</th>\n",
       "      <th>x1_d</th>\n",
       "    </tr>\n",
       "  </thead>\n",
       "  <tbody>\n",
       "    <tr>\n",
       "      <th>0</th>\n",
       "      <td>0</td>\n",
       "      <td>-0.375866</td>\n",
       "      <td>-0.922338</td>\n",
       "      <td>0.210758</td>\n",
       "      <td>0.109015</td>\n",
       "      <td>0.621001</td>\n",
       "      <td>-0.444421</td>\n",
       "      <td>0.089970</td>\n",
       "      <td>-0.707711</td>\n",
       "      <td>0.473700</td>\n",
       "      <td>1</td>\n",
       "      <td>0</td>\n",
       "      <td>0</td>\n",
       "      <td>0</td>\n",
       "    </tr>\n",
       "    <tr>\n",
       "      <th>1</th>\n",
       "      <td>0</td>\n",
       "      <td>0.047819</td>\n",
       "      <td>-1.781739</td>\n",
       "      <td>-0.272785</td>\n",
       "      <td>0.392783</td>\n",
       "      <td>1.094168</td>\n",
       "      <td>-0.975254</td>\n",
       "      <td>-0.353424</td>\n",
       "      <td>0.145543</td>\n",
       "      <td>-0.064961</td>\n",
       "      <td>0</td>\n",
       "      <td>1</td>\n",
       "      <td>0</td>\n",
       "      <td>0</td>\n",
       "    </tr>\n",
       "    <tr>\n",
       "      <th>2</th>\n",
       "      <td>1</td>\n",
       "      <td>0.372868</td>\n",
       "      <td>-1.120545</td>\n",
       "      <td>-0.773828</td>\n",
       "      <td>0.830072</td>\n",
       "      <td>-1.727836</td>\n",
       "      <td>1.323876</td>\n",
       "      <td>-1.587291</td>\n",
       "      <td>-0.024916</td>\n",
       "      <td>0.082491</td>\n",
       "      <td>0</td>\n",
       "      <td>0</td>\n",
       "      <td>0</td>\n",
       "      <td>1</td>\n",
       "    </tr>\n",
       "    <tr>\n",
       "      <th>3</th>\n",
       "      <td>0</td>\n",
       "      <td>0.059598</td>\n",
       "      <td>0.961795</td>\n",
       "      <td>-1.804197</td>\n",
       "      <td>2.931330</td>\n",
       "      <td>1.891656</td>\n",
       "      <td>0.094252</td>\n",
       "      <td>-0.873467</td>\n",
       "      <td>-1.217680</td>\n",
       "      <td>-1.848046</td>\n",
       "      <td>0</td>\n",
       "      <td>0</td>\n",
       "      <td>1</td>\n",
       "      <td>0</td>\n",
       "    </tr>\n",
       "    <tr>\n",
       "      <th>4</th>\n",
       "      <td>1</td>\n",
       "      <td>0.616319</td>\n",
       "      <td>-1.113519</td>\n",
       "      <td>0.626864</td>\n",
       "      <td>-0.287989</td>\n",
       "      <td>-0.842649</td>\n",
       "      <td>-0.947257</td>\n",
       "      <td>1.198215</td>\n",
       "      <td>0.972420</td>\n",
       "      <td>-1.054313</td>\n",
       "      <td>0</td>\n",
       "      <td>0</td>\n",
       "      <td>0</td>\n",
       "      <td>1</td>\n",
       "    </tr>\n",
       "  </tbody>\n",
       "</table>\n",
       "</div>"
      ],
      "text/plain": [
       "   y        x2        x4        x5        x6        x7        x8        x9  \\\n",
       "0  0 -0.375866 -0.922338  0.210758  0.109015  0.621001 -0.444421  0.089970   \n",
       "1  0  0.047819 -1.781739 -0.272785  0.392783  1.094168 -0.975254 -0.353424   \n",
       "2  1  0.372868 -1.120545 -0.773828  0.830072 -1.727836  1.323876 -1.587291   \n",
       "3  0  0.059598  0.961795 -1.804197  2.931330  1.891656  0.094252 -0.873467   \n",
       "4  1  0.616319 -1.113519  0.626864 -0.287989 -0.842649 -0.947257  1.198215   \n",
       "\n",
       "        x10       x11  x1_a  x1_b  x1_c  x1_d  \n",
       "0 -0.707711  0.473700     1     0     0     0  \n",
       "1  0.145543 -0.064961     0     1     0     0  \n",
       "2 -0.024916  0.082491     0     0     0     1  \n",
       "3 -1.217680 -1.848046     0     0     1     0  \n",
       "4  0.972420 -1.054313     0     0     0     1  "
      ]
     },
     "execution_count": 45,
     "metadata": {},
     "output_type": "execute_result"
    }
   ],
   "source": [
    "# Encoding the categorical feature 'x1'\n",
    "# Dummy encoding is used as it is faster, because of fewer classes and because it uses N-1 label/categories\n",
    "df = pd.get_dummies(df)\n",
    "df.head()"
   ]
  },
  {
   "cell_type": "code",
   "execution_count": 46,
   "metadata": {},
   "outputs": [],
   "source": [
    "# Getting the features and target\n",
    "# We select 'y' as the target variable, drop it from the main 'df' dataframe and then store the remainder columns\n",
    "# in X dataframe\n",
    "target = 'y'\n",
    "y = df[target]\n",
    "X = df.drop(columns=target)"
   ]
  },
  {
   "cell_type": "code",
   "execution_count": 47,
   "metadata": {},
   "outputs": [
    {
     "name": "stdout",
     "output_type": "stream",
     "text": [
      "Features:\n",
      "          x2        x4        x5        x6        x7        x8        x9  \\\n",
      "0 -0.375866 -0.922338  0.210758  0.109015  0.621001 -0.444421  0.089970   \n",
      "1  0.047819 -1.781739 -0.272785  0.392783  1.094168 -0.975254 -0.353424   \n",
      "2  0.372868 -1.120545 -0.773828  0.830072 -1.727836  1.323876 -1.587291   \n",
      "3  0.059598  0.961795 -1.804197  2.931330  1.891656  0.094252 -0.873467   \n",
      "4  0.616319 -1.113519  0.626864 -0.287989 -0.842649 -0.947257  1.198215   \n",
      "\n",
      "        x10       x11  x1_a  x1_b  x1_c  x1_d  \n",
      "0 -0.707711  0.473700     1     0     0     0  \n",
      "1  0.145543 -0.064961     0     1     0     0  \n",
      "2 -0.024916  0.082491     0     0     0     1  \n",
      "3 -1.217680 -1.848046     0     0     1     0  \n",
      "4  0.972420 -1.054313     0     0     0     1  \n",
      "Target:\n",
      " 0    0\n",
      "1    0\n",
      "2    1\n",
      "3    0\n",
      "4    1\n",
      "Name: y, dtype: int64\n"
     ]
    }
   ],
   "source": [
    "# Print the first 5 rows of the Features and the Target\n",
    "print('Features:\\n', X.head())\n",
    "print('Target:\\n', y.head())"
   ]
  },
  {
   "cell_type": "code",
   "execution_count": 48,
   "metadata": {},
   "outputs": [],
   "source": [
    "# We split the data using the train_test_split function from sklearn. \n",
    "# Setting the test data to be 30% and trin data to be 70% of the total data\n",
    "# A random state of 42 is used (by default) to generate reproducible results\n",
    "X_train, X_test, y_train, y_test = train_test_split(X, y, test_size=0.3, random_state=42)"
   ]
  },
  {
   "cell_type": "code",
   "execution_count": 49,
   "metadata": {},
   "outputs": [
    {
     "name": "stdout",
     "output_type": "stream",
     "text": [
      "X_train data shape:  (1190, 13)\n",
      "X_test data shape:  (510, 13)\n",
      "y_train data shape:  (1190,)\n",
      "y_test data shape:  (510,)\n"
     ]
    }
   ],
   "source": [
    "# Print the shapes of the split data\n",
    "print('X_train data shape: ', X_train.shape)\n",
    "print('X_test data shape: ', X_test.shape)\n",
    "print('y_train data shape: ', y_train.shape)\n",
    "print('y_test data shape: ', y_test.shape)"
   ]
  },
  {
   "cell_type": "markdown",
   "metadata": {},
   "source": [
    "##### Observation\n",
    "- Since most of the predictors follow a normal distribution, we use the StandardScaler function from sklearn\n",
    "- This gives the data a mean of 0 and a standard devisation of 1. It also maintain useful information about the outliers and makes algorithms less sensitive to them"
   ]
  },
  {
   "cell_type": "code",
   "execution_count": 50,
   "metadata": {},
   "outputs": [],
   "source": [
    "# Scaling the data\n",
    "ss = StandardScaler()\n",
    "X_train = ss.fit_transform(X_train)\n",
    "X_test = ss.transform(X_test)"
   ]
  },
  {
   "cell_type": "markdown",
   "metadata": {},
   "source": [
    "## PREDICTIVE MODELING"
   ]
  },
  {
   "cell_type": "markdown",
   "metadata": {},
   "source": [
    "### Logistic Regression"
   ]
  },
  {
   "cell_type": "code",
   "execution_count": 51,
   "metadata": {},
   "outputs": [
    {
     "name": "stdout",
     "output_type": "stream",
     "text": [
      "Classification Report for Logistic Regression:\n",
      "              precision    recall  f1-score     support\n",
      "0              0.710280  0.838235  0.768971  272.000000\n",
      "1              0.767196  0.609244  0.679157  238.000000\n",
      "accuracy       0.731373  0.731373  0.731373    0.731373\n",
      "macro avg      0.738738  0.723739  0.724064  510.000000\n",
      "weighted avg   0.736841  0.731373  0.727058  510.000000\n"
     ]
    }
   ],
   "source": [
    "# Training\n",
    "log_reg = LogisticRegression()\n",
    "log_reg.fit(X_train, y_train)\n",
    "\n",
    "# Prediction\n",
    "predictn_lr = log_reg.predict(X_test)\n",
    "\n",
    "# Performance \n",
    "class_report_lr = classification_report(y_test, predictn_lr, output_dict=True)\n",
    "table_report_lr = pd.DataFrame(class_report_lr).transpose()\n",
    "print('Classification Report for Logistic Regression:')\n",
    "print(table_report_lr)\n",
    "\n",
    "# Confusion Matrix\n",
    "# print(confusion_matrix(y_test, predictn_lr))"
   ]
  },
  {
   "cell_type": "markdown",
   "metadata": {},
   "source": [
    "### Decision Tree Classifier"
   ]
  },
  {
   "cell_type": "code",
   "execution_count": 52,
   "metadata": {},
   "outputs": [
    {
     "name": "stdout",
     "output_type": "stream",
     "text": [
      "Classification Report for Decision Tree Classifier:\n",
      "              precision    recall  f1-score     support\n",
      "0              0.837288  0.908088  0.871252  272.000000\n",
      "1              0.883721  0.798319  0.838852  238.000000\n",
      "accuracy       0.856863  0.856863  0.856863    0.856863\n",
      "macro avg      0.860505  0.853204  0.855052  510.000000\n",
      "weighted avg   0.858957  0.856863  0.856132  510.000000\n"
     ]
    }
   ],
   "source": [
    "# Training\n",
    "dtc = DecisionTreeClassifier()\n",
    "dtc.fit(X_train, y_train)\n",
    "\n",
    "# Prediction\n",
    "predictn_dtc = dtc.predict(X_test)\n",
    "\n",
    "# Performance \n",
    "class_report_dtc = classification_report(y_test, predictn_dtc, output_dict=True)\n",
    "table_report_dtc = pd.DataFrame(class_report_dtc).transpose()\n",
    "print('Classification Report for Decision Tree Classifier:')\n",
    "print(table_report_dtc)\n",
    "\n",
    "# Confusion Matrix\n",
    "# print(confusion_matrix(y_test, predictn_dtc))"
   ]
  },
  {
   "cell_type": "markdown",
   "metadata": {},
   "source": [
    "### Support Vector Machine Classifier"
   ]
  },
  {
   "cell_type": "code",
   "execution_count": 53,
   "metadata": {},
   "outputs": [
    {
     "name": "stdout",
     "output_type": "stream",
     "text": [
      "Classification Report for Decision Tree Classifier:\n",
      "              precision    recall  f1-score     support\n",
      "0              0.729050  0.959559  0.828571  272.000000\n",
      "1              0.927632  0.592437  0.723077  238.000000\n",
      "accuracy       0.788235  0.788235  0.788235    0.788235\n",
      "macro avg      0.828341  0.775998  0.775824  510.000000\n",
      "weighted avg   0.821722  0.788235  0.779341  510.000000\n"
     ]
    }
   ],
   "source": [
    "# Training - SVC using Linear Kernel\n",
    "svm = SVC(kernel='linear')\n",
    "svm.fit(X_train, y_train)\n",
    "\n",
    "# Prediction\n",
    "predictn_svm = svm.predict(X_test)\n",
    "\n",
    "# Performance \n",
    "class_report_svm = classification_report(y_test, predictn_svm, output_dict=True)\n",
    "table_report_svm = pd.DataFrame(class_report_svm).transpose()\n",
    "print('Classification Report for Decision Tree Classifier:')\n",
    "print(table_report_svm)\n",
    "\n",
    "# Confusion Matrix\n",
    "# print(confusion_matrix(y_test, predictn_svm))"
   ]
  },
  {
   "cell_type": "markdown",
   "metadata": {},
   "source": [
    "### K Nearest Neighbor Classifier"
   ]
  },
  {
   "cell_type": "code",
   "execution_count": 54,
   "metadata": {},
   "outputs": [
    {
     "name": "stdout",
     "output_type": "stream",
     "text": [
      "Classification Report for Decision Tree Classifier:\n",
      "              precision    recall  f1-score     support\n",
      "0              0.678808  0.753676  0.714286  272.000000\n",
      "1              0.677885  0.592437  0.632287  238.000000\n",
      "accuracy       0.678431  0.678431  0.678431    0.678431\n",
      "macro avg      0.678346  0.673057  0.673286  510.000000\n",
      "weighted avg   0.678377  0.678431  0.676020  510.000000\n"
     ]
    }
   ],
   "source": [
    "# Training \n",
    "knn = KNeighborsClassifier(n_neighbors=3)\n",
    "knn.fit(X_train, y_train)\n",
    "\n",
    "# Prediction\n",
    "predictn_knn = knn.predict(X_test)\n",
    "\n",
    "# Performance \n",
    "class_report_knn = classification_report(y_test, predictn_knn, output_dict=True)\n",
    "table_report_knn = pd.DataFrame(class_report_knn).transpose()\n",
    "print('Classification Report for Decision Tree Classifier:')\n",
    "print(table_report_knn)\n",
    "\n",
    "# Confusion Matrix\n",
    "# print(confusion_matrix(y_test, predictn_svm))"
   ]
  },
  {
   "cell_type": "markdown",
   "metadata": {},
   "source": [
    "### Random Forrest Classifier"
   ]
  },
  {
   "cell_type": "code",
   "execution_count": 55,
   "metadata": {},
   "outputs": [
    {
     "name": "stdout",
     "output_type": "stream",
     "text": [
      "Classification Report for Random Forrest Classifier:\n",
      "              precision    recall  f1-score    support\n",
      "0              0.796970  0.966912  0.873754  272.00000\n",
      "1              0.950000  0.718487  0.818182  238.00000\n",
      "accuracy       0.850980  0.850980  0.850980    0.85098\n",
      "macro avg      0.873485  0.842700  0.845968  510.00000\n",
      "weighted avg   0.868384  0.850980  0.847820  510.00000\n"
     ]
    }
   ],
   "source": [
    "# Training\n",
    "rfc = RandomForestClassifier()\n",
    "rfc.fit(X_train, y_train)\n",
    "\n",
    "# Prediction\n",
    "predictn_rfc = rfc.predict(X_test)\n",
    "\n",
    "# Performance \n",
    "class_report_rfc = classification_report(y_test, predictn_rfc, output_dict=True)\n",
    "table_report_rfc = pd.DataFrame(class_report_rfc).transpose()\n",
    "print('Classification Report for Random Forrest Classifier:')\n",
    "print(table_report_rfc)\n",
    "\n",
    "# Confusion Matrix\n",
    "# print(confusion_matrix(y_test, predictn_rfc))"
   ]
  },
  {
   "cell_type": "markdown",
   "metadata": {},
   "source": [
    "### XgBoost Classifier"
   ]
  },
  {
   "cell_type": "code",
   "execution_count": 56,
   "metadata": {},
   "outputs": [
    {
     "name": "stdout",
     "output_type": "stream",
     "text": [
      "Classification Report for XgBoost Classifier\n",
      "              precision    recall  f1-score     support\n",
      "0              0.852349  0.933824  0.891228  272.000000\n",
      "1              0.915094  0.815126  0.862222  238.000000\n",
      "accuracy       0.878431  0.878431  0.878431    0.878431\n",
      "macro avg      0.883722  0.874475  0.876725  510.000000\n",
      "weighted avg   0.881630  0.878431  0.877692  510.000000\n"
     ]
    }
   ],
   "source": [
    "# Training\n",
    "xgb = XGBClassifier()\n",
    "xgb.fit(X_train, y_train)\n",
    "\n",
    "# Prediction\n",
    "predictn_xgb = xgb.predict(X_test)\n",
    "\n",
    "# Performance \n",
    "class_report_xgb = classification_report(y_test, predictn_xgb, output_dict=True)\n",
    "table_report_xgb = pd.DataFrame(class_report_xgb).transpose()\n",
    "print('Classification Report for XgBoost Classifier')\n",
    "print(table_report_xgb)\n",
    "\n",
    "# Confusion Matrix\n",
    "# print(confusion_matrix(y_test, predictn_xgb))"
   ]
  },
  {
   "cell_type": "code",
   "execution_count": 57,
   "metadata": {},
   "outputs": [
    {
     "name": "stdout",
     "output_type": "stream",
     "text": [
      "                     Model Accuracy\n",
      "Logistic Regression        0.731373\n",
      "Decision Tree              0.856863\n",
      "SVM Classifier             0.788235\n",
      "KNN Classifier             0.678431\n",
      "Random Forrest             0.850980\n",
      "XgBoost Classifier         0.878431\n"
     ]
    }
   ],
   "source": [
    "# Best model, using model accuracy\n",
    "# Since the data is a well balanced dataset, we can use the accuracy of a model to determine performance of eahc model\n",
    "model_comparision = pd.DataFrame({'Model Accuracy':[accuracy_score(y_test,predictn_lr),\n",
    "                                                   accuracy_score(y_test,predictn_dtc),\n",
    "                                                   accuracy_score(y_test,predictn_svm),\n",
    "                                                   accuracy_score(y_test,predictn_knn),\n",
    "                                                   accuracy_score(y_test,predictn_rfc),\n",
    "                                                   accuracy_score(y_test,predictn_xgb)]},\n",
    "                                index = ['Logistic Regression', 'Decision Tree', 'SVM Classifier', 'KNN Classifier',\n",
    "                                         'Random Forrest','XgBoost Classifier'])\n",
    "print(model_comparision)"
   ]
  },
  {
   "cell_type": "code",
   "execution_count": 58,
   "metadata": {},
   "outputs": [
    {
     "name": "stdout",
     "output_type": "stream",
     "text": [
      "Confusion Matrix of XgBoost model:\n",
      "[[254  18]\n",
      " [ 44 194]]\n",
      "Classification Report for XgBoost Classifier:\n",
      "              precision    recall  f1-score     support\n",
      "0              0.852349  0.933824  0.891228  272.000000\n",
      "1              0.915094  0.815126  0.862222  238.000000\n",
      "accuracy       0.878431  0.878431  0.878431    0.878431\n",
      "macro avg      0.883722  0.874475  0.876725  510.000000\n",
      "weighted avg   0.881630  0.878431  0.877692  510.000000\n"
     ]
    }
   ],
   "source": [
    "# Confusion Matrix for XgBoost\n",
    "print('Confusion Matrix of XgBoost model:')\n",
    "print(confusion_matrix(y_test, predictn_xgb))\n",
    "\n",
    "# Classification Report \n",
    "print('Classification Report for XgBoost Classifier:')\n",
    "print(table_report_xgb)"
   ]
  },
  {
   "cell_type": "markdown",
   "metadata": {},
   "source": [
    "##### Observation\n",
    "- Looking at the model accuracies, we can clearly see that XgBoost Classifier is out best model initially with an accuracy of 87.8%\n",
    "- However, taking a look at some of the data points that are not classified correctly by this model\n",
    "- The Confusion Matrix gives us True Positive (TP), False Positive (FP), False Negative (FN) and True Negative (TN) values\n",
    "- WE can see that, the model has falsely predicted at total of (18+44)=62 values out of 510 test values \n",
    "- Type I error occured for 18 instances, where the actual value was negative and predicted as positive  \n",
    "- Type II error occured for 44 instances, where the actual value was positive, but was predicted as negative\n",
    "- Compared to the total number of instances (as seen under Support, of the classification report), for each class, the Type I & II errors were not very high"
   ]
  },
  {
   "cell_type": "markdown",
   "metadata": {},
   "source": [
    "### Answers to Section A"
   ]
  },
  {
   "cell_type": "code",
   "execution_count": 59,
   "metadata": {},
   "outputs": [
    {
     "name": "stdout",
     "output_type": "stream",
     "text": [
      "Misclassified Instances:\n",
      "8 1 != 0\n",
      "32 1 != 0\n",
      "38 1 != 0\n",
      "40 1 != 0\n",
      "62 1 != 0\n",
      "73 0 != 1\n",
      "77 1 != 0\n",
      "85 1 != 0\n",
      "95 1 != 0\n",
      "109 1 != 0\n",
      "123 0 != 1\n",
      "126 1 != 0\n",
      "129 1 != 0\n",
      "136 0 != 1\n",
      "144 0 != 1\n",
      "145 0 != 1\n",
      "148 0 != 1\n",
      "157 1 != 0\n",
      "160 1 != 0\n",
      "174 1 != 0\n",
      "180 1 != 0\n",
      "187 1 != 0\n",
      "196 1 != 0\n",
      "203 1 != 0\n",
      "206 1 != 0\n",
      "210 1 != 0\n",
      "213 1 != 0\n",
      "238 1 != 0\n",
      "240 1 != 0\n",
      "245 0 != 1\n",
      "246 1 != 0\n",
      "253 1 != 0\n",
      "262 1 != 0\n",
      "271 1 != 0\n",
      "285 0 != 1\n",
      "292 0 != 1\n",
      "297 1 != 0\n",
      "302 1 != 0\n",
      "319 1 != 0\n",
      "327 1 != 0\n",
      "332 1 != 0\n",
      "352 0 != 1\n",
      "360 1 != 0\n",
      "388 0 != 1\n",
      "390 1 != 0\n",
      "393 0 != 1\n",
      "395 0 != 1\n",
      "398 1 != 0\n",
      "399 0 != 1\n",
      "401 0 != 1\n",
      "414 1 != 0\n",
      "434 1 != 0\n",
      "443 1 != 0\n",
      "445 1 != 0\n",
      "446 1 != 0\n",
      "453 1 != 0\n",
      "464 0 != 1\n",
      "471 0 != 1\n",
      "489 0 != 1\n",
      "494 1 != 0\n",
      "504 1 != 0\n",
      "509 1 != 0\n",
      "X_test[8]: [ 0.37265631  1.04827797  0.43771119 -0.82355765 -1.10923963  1.69003272\n",
      " -1.15637339 -0.26957453  0.13073127  1.73399366 -0.59093684 -0.55210919\n",
      " -0.58964258]\n",
      "X_test[160]: [ 0.40809374 -0.29192459  0.8078069  -0.39394093 -0.82831485 -1.64976682\n",
      " -2.41053026 -0.28890127  0.66569653  1.73399366 -0.59093684 -0.55210919\n",
      " -0.58964258]\n",
      "X_test[443]: [ 0.53834997 -0.53914906 -0.12070572 -0.23667739  0.92883471  0.40403041\n",
      "  1.00668485  0.14655316 -0.91639324 -0.57670338  1.69222822 -0.55210919\n",
      " -0.58964258]\n"
     ]
    }
   ],
   "source": [
    "# Now we check for those data points where the model does not perform as well i.e. misclassifies as the opposite class\n",
    "# A simple for loop running for the length of y_test values allows us to check which instances of the test set were\n",
    "# misclassified\n",
    "print('Misclassified Instances:')\n",
    "for i in range(len(y_test)):\n",
    "    if y_test.iloc[i] != predictn_xgb[i]:\n",
    "        print(i, y_test.iloc[i], \"!=\", predictn_xgb[i])\n",
    "        \n",
    "# Printing some of those instances\n",
    "# X_test is a numpy array, hence, we do not observe the values as a dataframe\n",
    "print('X_test[8]:', X_test[8])\n",
    "print('X_test[160]:', X_test[160])\n",
    "print('X_test[443]:', X_test[443])"
   ]
  },
  {
   "cell_type": "markdown",
   "metadata": {},
   "source": [
    "##### Observation\n",
    "- By looking at some of the misclassified examples, we can see that some columns do not seem to have standardized values\n",
    "- This simply implies that the values seem to vary. This can be solved by using other normalization or standardization \n",
    "- techniques. \n",
    "- These values can be outliers, which can be removed through further pre-processing and feature selection. Further,\n",
    "- improvements can be made to the model, itself using hyperparameter tuning."
   ]
  },
  {
   "cell_type": "code",
   "execution_count": 60,
   "metadata": {},
   "outputs": [],
   "source": [
    "# Write about xgboost limitations and hyperparameter tuning to improve model"
   ]
  },
  {
   "cell_type": "markdown",
   "metadata": {},
   "source": [
    "### Answers to Section B"
   ]
  },
  {
   "cell_type": "markdown",
   "metadata": {},
   "source": [
    "#### Q1. A few days after you finish the initial model, you learn new information that the value of the X2 feature makes sense only if it is positive (i.e. X2 > 0 should be in the model instead of original X2). Show how you would address this issue.\n",
    "#### Answer 1.\n",
    "- We can use the function described below and a slightly modified version of it to answer the question stated above. \n",
    "- In order to implement the solution, we must think about whether that dataset is imbalanced or not.\n",
    "- In our case, we observe that the data is not an imbalanced one, hence, if we need to check, how many values in x2 are greater than 0 and how many are lesser than 0.\n",
    "- We can observe that there are 907 positive values (x2>0) and 793 negative values (x2<=0)\n",
    "- Hence, if we were to consider only positive values, it would lead to the data being reduced greatly.\n",
    "- We can now do one of the following: \n",
    "  - Remove the feature, but performing feature selection\n",
    "  - Impute the feature using to convert negative values to a mean of the positive values"
   ]
  },
  {
   "cell_type": "code",
   "execution_count": 61,
   "metadata": {},
   "outputs": [
    {
     "name": "stdout",
     "output_type": "stream",
     "text": [
      "Total Positive values in x2: 907 \n",
      "Total Negative values in x2: 793\n"
     ]
    }
   ],
   "source": [
    "positive = 0\n",
    "negative = 0\n",
    "for val in df['x2']:\n",
    "    if val <=0:\n",
    "        negative += 1\n",
    "    else:\n",
    "        positive += 1\n",
    "print('Total Positive values in x2:', positive, '\\nTotal Negative values in x2:', negative)"
   ]
  },
  {
   "cell_type": "markdown",
   "metadata": {},
   "source": [
    "#### Q2. Later, you additionally learn that X4 should’ve been used as an indicator variable (e.g. X4 that is greater than a certain threshold should be treated differently than X4 values below that threshold). However, you don’t know the value of threshold. Adapt your code to support a systematic way of finding threshold which leads to improved model performance.\n",
    "#### Q3. Now that you realize feature engineering is a frequent need for improving our models, you want to create a general framework to tackle such situations (e.g. conversion to indicators, defining certain thresholds, etc.). What function/module do you develop to enable user-defined column conversions for given thresholds? Suppose thresholds are given to you as arguments to your function. \n",
    "#### Answer 2&3.\n",
    "- An indicator variable is a dummy variable that numerically represents a categorical feature. In the case where we take 'x4' column to be an indicator variable, we can use the following function to input a threshold and increase model performance\n",
    "- To answer questions in section B, there are 2 main things to consider: \n",
    "  - Finding the best threshold to distinguish the classes in for the indicator variable \n",
    "  - Using the threshold to increase model performance"
   ]
  },
  {
   "cell_type": "code",
   "execution_count": 62,
   "metadata": {},
   "outputs": [
    {
     "data": {
      "text/html": [
       "<div>\n",
       "<style scoped>\n",
       "    .dataframe tbody tr th:only-of-type {\n",
       "        vertical-align: middle;\n",
       "    }\n",
       "\n",
       "    .dataframe tbody tr th {\n",
       "        vertical-align: top;\n",
       "    }\n",
       "\n",
       "    .dataframe thead th {\n",
       "        text-align: right;\n",
       "    }\n",
       "</style>\n",
       "<table border=\"1\" class=\"dataframe\">\n",
       "  <thead>\n",
       "    <tr style=\"text-align: right;\">\n",
       "      <th></th>\n",
       "      <th>y</th>\n",
       "      <th>x1</th>\n",
       "      <th>x2</th>\n",
       "      <th>x3</th>\n",
       "      <th>x4</th>\n",
       "      <th>x5</th>\n",
       "      <th>x6</th>\n",
       "      <th>x7</th>\n",
       "      <th>x8</th>\n",
       "      <th>x9</th>\n",
       "      <th>x10</th>\n",
       "      <th>x11</th>\n",
       "    </tr>\n",
       "  </thead>\n",
       "  <tbody>\n",
       "    <tr>\n",
       "      <th>0</th>\n",
       "      <td>0</td>\n",
       "      <td>a</td>\n",
       "      <td>-0.375866</td>\n",
       "      <td>0.427942</td>\n",
       "      <td>-0.922338</td>\n",
       "      <td>0.210758</td>\n",
       "      <td>0.109015</td>\n",
       "      <td>0.621001</td>\n",
       "      <td>-0.444421</td>\n",
       "      <td>0.089970</td>\n",
       "      <td>-0.707711</td>\n",
       "      <td>0.473700</td>\n",
       "    </tr>\n",
       "    <tr>\n",
       "      <th>1</th>\n",
       "      <td>0</td>\n",
       "      <td>b</td>\n",
       "      <td>0.047819</td>\n",
       "      <td>0.115627</td>\n",
       "      <td>-1.781739</td>\n",
       "      <td>-0.272785</td>\n",
       "      <td>0.392783</td>\n",
       "      <td>1.094168</td>\n",
       "      <td>-0.975254</td>\n",
       "      <td>-0.353424</td>\n",
       "      <td>0.145543</td>\n",
       "      <td>-0.064961</td>\n",
       "    </tr>\n",
       "    <tr>\n",
       "      <th>2</th>\n",
       "      <td>1</td>\n",
       "      <td>d</td>\n",
       "      <td>0.372868</td>\n",
       "      <td>-0.263291</td>\n",
       "      <td>-1.120545</td>\n",
       "      <td>-0.773828</td>\n",
       "      <td>0.830072</td>\n",
       "      <td>-1.727836</td>\n",
       "      <td>1.323876</td>\n",
       "      <td>-1.587291</td>\n",
       "      <td>-0.024916</td>\n",
       "      <td>0.082491</td>\n",
       "    </tr>\n",
       "    <tr>\n",
       "      <th>3</th>\n",
       "      <td>0</td>\n",
       "      <td>c</td>\n",
       "      <td>0.059598</td>\n",
       "      <td>0.270797</td>\n",
       "      <td>0.961795</td>\n",
       "      <td>-1.804197</td>\n",
       "      <td>2.931330</td>\n",
       "      <td>1.891656</td>\n",
       "      <td>0.094252</td>\n",
       "      <td>-0.873467</td>\n",
       "      <td>-1.217680</td>\n",
       "      <td>-1.848046</td>\n",
       "    </tr>\n",
       "    <tr>\n",
       "      <th>4</th>\n",
       "      <td>1</td>\n",
       "      <td>d</td>\n",
       "      <td>0.616319</td>\n",
       "      <td>0.291275</td>\n",
       "      <td>-1.113519</td>\n",
       "      <td>0.626864</td>\n",
       "      <td>-0.287989</td>\n",
       "      <td>-0.842649</td>\n",
       "      <td>-0.947257</td>\n",
       "      <td>1.198215</td>\n",
       "      <td>0.972420</td>\n",
       "      <td>-1.054313</td>\n",
       "    </tr>\n",
       "  </tbody>\n",
       "</table>\n",
       "</div>"
      ],
      "text/plain": [
       "   y x1        x2        x3        x4        x5        x6        x7        x8  \\\n",
       "0  0  a -0.375866  0.427942 -0.922338  0.210758  0.109015  0.621001 -0.444421   \n",
       "1  0  b  0.047819  0.115627 -1.781739 -0.272785  0.392783  1.094168 -0.975254   \n",
       "2  1  d  0.372868 -0.263291 -1.120545 -0.773828  0.830072 -1.727836  1.323876   \n",
       "3  0  c  0.059598  0.270797  0.961795 -1.804197  2.931330  1.891656  0.094252   \n",
       "4  1  d  0.616319  0.291275 -1.113519  0.626864 -0.287989 -0.842649 -0.947257   \n",
       "\n",
       "         x9       x10       x11  \n",
       "0  0.089970 -0.707711  0.473700  \n",
       "1 -0.353424  0.145543 -0.064961  \n",
       "2 -1.587291 -0.024916  0.082491  \n",
       "3 -0.873467 -1.217680 -1.848046  \n",
       "4  1.198215  0.972420 -1.054313  "
      ]
     },
     "execution_count": 62,
     "metadata": {},
     "output_type": "execute_result"
    }
   ],
   "source": [
    "df_copy.head()"
   ]
  },
  {
   "cell_type": "markdown",
   "metadata": {},
   "source": [
    "##### Function - threshold_search() - To generalize the framework of tackling modifications (Answer 3.)\n",
    "- This function aims to take a list of threshold values and tests each one to check for accuracy of the intial model/\n",
    "- Usng a for loop, and list comprehension, we can set values of the specified column as 1 if value > threshold and 0 if value < threshold.\n",
    "- The function takes are input a list of thresholds, the dataframe, the column we wish to manipulate, and for purposes of this exercise, the column we choose to drop (feature engineering), and the target variable.\n",
    "- Once the specified column is converted into an indicator variable (binary values (1 & 0), we are able to continue the same steps of feature engineering, data splitting, scaling data, training and observing performance."
   ]
  },
  {
   "cell_type": "code",
   "execution_count": 63,
   "metadata": {},
   "outputs": [
    {
     "name": "stdout",
     "output_type": "stream",
     "text": [
      "Run the function!\n",
      "Threshold is: 0.5\n",
      "Accuracy Score for XgBoost model: 0.8784313725490196\n",
      "Threshold is: -0.1\n",
      "Accuracy Score for XgBoost model: 0.8725490196078431\n"
     ]
    }
   ],
   "source": [
    "# Finding the best threshold \n",
    "def threshold_search(thresh_list, data, col, col_drop, targ):\n",
    "    # Feature Engineering\n",
    "    data = data.drop(columns=col_drop)\n",
    "    \n",
    "    for val in thresh_list:\n",
    "        print('Threshold is:', val)\n",
    "        # Use data\n",
    "        # Filtering the threshold\n",
    "        data[col] = [1 if val1>val else 0 for val1 in data[col]]\n",
    "        # print(data.head(10))\n",
    "               \n",
    "        # Encoding Categorical Feature\n",
    "        data = pd.get_dummies(data)\n",
    "        \n",
    "        # Getting the Features and Target\n",
    "        target = targ\n",
    "        y_copy = data[targ]\n",
    "        X_copy = data.drop(columns=target)\n",
    "        \n",
    "        # Data Splitting\n",
    "        X_train_copy, X_test_copy, y_train_copy, y_test_copy = train_test_split(X_copy, y_copy, test_size=0.3,\n",
    "                                                                                random_state=42)\n",
    "        \n",
    "        # Scaling the Data\n",
    "        ss = StandardScaler()\n",
    "        X_train_copy = ss.fit_transform(X_train_copy)\n",
    "        X_test_copy = ss.transform(X_test_copy)\n",
    "        \n",
    "        # Training - Using our best initial model\n",
    "        xgb_c = XGBClassifier()\n",
    "        xgb_c.fit(X_train_copy, y_train_copy)\n",
    "        \n",
    "        # Prediction\n",
    "        predictn_xgb_c = xgb_c.predict(X_test_copy) \n",
    "        \n",
    "        # Accuracy Score\n",
    "        print('Accuracy Score for XgBoost model:', accuracy_score(y_test_copy,predictn_xgb_c))\n",
    "    \n",
    "\n",
    "print('Run the function!')\n",
    "threshold_list = [0.5, -0.1]\n",
    "threshold_search(threshold_list, df_copy, 'x4', 'x3', 'y')"
   ]
  },
  {
   "cell_type": "markdown",
   "metadata": {},
   "source": [
    "##### Observation\n",
    "- By looking at the output of the threshold_search(), we can observe that when the threshold is positive (e.g.: 0.5), the accuracy is the same as that of the model on original data. When we lower the threshold, (e.g.: -0.1), the accuracy drops from 87.8% to 87.2%. "
   ]
  },
  {
   "cell_type": "markdown",
   "metadata": {},
   "source": [
    "##### Function - threshold_criteria() - Specifically for Answer 2.\n",
    "- This function aims to take take as input a single threshold, which we found using the function threshold_search(), and train the model and get the best performance.\n",
    "- Similar to the previous function, instead of using a list of threshold, this function takes into account the best threshold we get from the previous function. \n",
    "- Then by completing the steps of feature engineering and modeling, we get the performance metric of the model."
   ]
  },
  {
   "cell_type": "code",
   "execution_count": 64,
   "metadata": {},
   "outputs": [
    {
     "name": "stdout",
     "output_type": "stream",
     "text": [
      "Run the function!\n",
      "Classification Report for XgBoost Classifier\n",
      "              precision    recall  f1-score     support\n",
      "0              0.854730  0.930147  0.890845  272.000000\n",
      "1              0.911215  0.819328  0.862832  238.000000\n",
      "accuracy       0.878431  0.878431  0.878431    0.878431\n",
      "macro avg      0.882972  0.874737  0.876838  510.000000\n",
      "weighted avg   0.881090  0.878431  0.877772  510.000000\n",
      "Confusion Matrix of XgBoost model:\n",
      "[[253  19]\n",
      " [ 43 195]]\n",
      "Accuracy Score for XgBoost model: 0.8784313725490196\n"
     ]
    }
   ],
   "source": [
    "def threshold_criteria(threshold, data, col, col_drop, targ):\n",
    "    # Use data\n",
    "    # Filtering the threshold\n",
    "    data[col] = [1 if val>threshold else 0 for val in data[col]]\n",
    "    data.head(10)\n",
    "    \n",
    "    # Feature Engineering\n",
    "    data = data.drop(columns=col_drop)\n",
    "    \n",
    "    # Encoding Categorical Feature\n",
    "    data = pd.get_dummies(data)\n",
    "    \n",
    "    # Getting the Features and Target\n",
    "    target = targ\n",
    "    y_copy = data[targ]\n",
    "    X_copy = data.drop(columns=target)\n",
    "    \n",
    "    # Data Splitting\n",
    "    X_train_copy, X_test_copy, y_train_copy, y_test_copy = train_test_split(X_copy, y_copy, test_size=0.3, random_state=42)\n",
    "    \n",
    "    # Scaling the Data\n",
    "    ss = StandardScaler()\n",
    "    X_train_copy = ss.fit_transform(X_train_copy)\n",
    "    X_test_copy = ss.transform(X_test_copy)\n",
    "    \n",
    "    # Training - Using our best initial model\n",
    "    xgb_c = XGBClassifier()\n",
    "    xgb_c.fit(X_train_copy, y_train_copy)\n",
    "    \n",
    "    # Prediction\n",
    "    predictn_xgb_c = xgb_c.predict(X_test_copy)\n",
    "    \n",
    "    # Performance \n",
    "    class_report_xgb_c = classification_report(y_test_copy, predictn_xgb_c, output_dict=True)\n",
    "    table_report_xgb_c = pd.DataFrame(class_report_xgb_c).transpose()\n",
    "    print('Classification Report for XgBoost Classifier')\n",
    "    print(table_report_xgb_c)\n",
    "    \n",
    "    # Confusion Matrix for XgBoost\n",
    "    print('Confusion Matrix of XgBoost model:')\n",
    "    print(confusion_matrix(y_test_copy, predictn_xgb_c))     \n",
    "    \n",
    "    # Accuracy Score\n",
    "    print('Accuracy Score for XgBoost model:', accuracy_score(y_test_copy,predictn_xgb_c))\n",
    "    \n",
    "\n",
    "print('Run the function!')\n",
    "threshold_criteria(0.5, df_copy, 'x4', 'x3', 'y')"
   ]
  },
  {
   "cell_type": "markdown",
   "metadata": {},
   "source": [
    "### Notes and Observations\n",
    "- The dataset was a fairly simple and clean one. In case more information (e.g.: domain knowledge, variable names, etc.) were to be given, the initial analysis and exploration would have been more in-depth.\n",
    "- The 2 custom functions written to retrieve the threshold values and converting features to indicator variables, can be optimized further, b understanding the feature in question, provided we have additional information\n",
    "- Furthermore, additional feature selection process and pipelines can be created for faster and efficient execution of the modeling process.\n",
    "- While the initial models have been set with default parameters, each model has its own set of hyperparameters, that can be fine-tuned using methods such as GridSearchCV. This would allow us to find the best model.\n",
    "- For more in-dept understanding, using the algorithms such as Random Forrest and KNN, feature importance can be found."
   ]
  },
  {
   "cell_type": "code",
   "execution_count": null,
   "metadata": {},
   "outputs": [],
   "source": []
  }
 ],
 "metadata": {
  "kernelspec": {
   "display_name": "Python 3",
   "language": "python",
   "name": "python3"
  },
  "language_info": {
   "codemirror_mode": {
    "name": "ipython",
    "version": 3
   },
   "file_extension": ".py",
   "mimetype": "text/x-python",
   "name": "python",
   "nbconvert_exporter": "python",
   "pygments_lexer": "ipython3",
   "version": "3.7.7"
  }
 },
 "nbformat": 4,
 "nbformat_minor": 4
}
